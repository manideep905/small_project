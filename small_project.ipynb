{
 "cells": [
  {
   "cell_type": "markdown",
   "id": "529845d8",
   "metadata": {},
   "source": [
    "# Aim:\n",
    "\n",
    "> To clean raw data and store the data in database\n",
    "\n",
    "> import data from database and analyze all relevant data and to get insights\n",
    "\n"
   ]
  },
  {
   "cell_type": "markdown",
   "id": "9b2797f0",
   "metadata": {},
   "source": [
    "# steps steps involved:\n",
    "\n",
    ">step 1 : importing all libraries and data\n",
    "\n",
    "\n",
    "> step 2 : data observations:\n",
    "\n",
    "             > data and data types read correctly or not\n",
    "\n",
    "             > find  duplicates and handling\n",
    "\n",
    "             > find  missing values and handling\n",
    "\n",
    "> step 3: Database :\n",
    "    \n",
    "            > create database\n",
    "\n",
    "\n",
    "            > Store the clean data in data base \n",
    "\n",
    "\n",
    "            > read data from database\n",
    "    \n",
    "> step 4 : Exploratory data analysis"
   ]
  },
  {
   "cell_type": "markdown",
   "id": "71bbf7f4",
   "metadata": {},
   "source": [
    "# Step - 1"
   ]
  },
  {
   "cell_type": "code",
   "execution_count": 64,
   "id": "97511907",
   "metadata": {},
   "outputs": [
    {
     "data": {
      "text/html": [
       "        <script type=\"text/javascript\">\n",
       "        window.PlotlyConfig = {MathJaxConfig: 'local'};\n",
       "        if (window.MathJax && window.MathJax.Hub && window.MathJax.Hub.Config) {window.MathJax.Hub.Config({SVG: {font: \"STIX-Web\"}});}\n",
       "        if (typeof require !== 'undefined') {\n",
       "        require.undef(\"plotly\");\n",
       "        requirejs.config({\n",
       "            paths: {\n",
       "                'plotly': ['https://cdn.plot.ly/plotly-2.12.1.min']\n",
       "            }\n",
       "        });\n",
       "        require(['plotly'], function(Plotly) {\n",
       "            window._Plotly = Plotly;\n",
       "        });\n",
       "        }\n",
       "        </script>\n",
       "        "
      ]
     },
     "metadata": {},
     "output_type": "display_data"
    },
    {
     "data": {
      "text/html": [
       "        <script type=\"text/javascript\">\n",
       "        window.PlotlyConfig = {MathJaxConfig: 'local'};\n",
       "        if (window.MathJax && window.MathJax.Hub && window.MathJax.Hub.Config) {window.MathJax.Hub.Config({SVG: {font: \"STIX-Web\"}});}\n",
       "        if (typeof require !== 'undefined') {\n",
       "        require.undef(\"plotly\");\n",
       "        requirejs.config({\n",
       "            paths: {\n",
       "                'plotly': ['https://cdn.plot.ly/plotly-2.12.1.min']\n",
       "            }\n",
       "        });\n",
       "        require(['plotly'], function(Plotly) {\n",
       "            window._Plotly = Plotly;\n",
       "        });\n",
       "        }\n",
       "        </script>\n",
       "        "
      ]
     },
     "metadata": {},
     "output_type": "display_data"
    }
   ],
   "source": [
    "# importing all libraries\n",
    "\n",
    "import pandas as pd\n",
    "import seaborn as sns\n",
    "import matplotlib.pyplot as plt\n",
    "from matplotlib.pyplot import figure\n",
    "\n",
    "\n",
    "\n",
    "\n",
    "import plotly.io as pio\n",
    "import plotly.express as px\n",
    "import plotly.graph_objects as go\n",
    "from sklearn.preprocessing import LabelEncoder\n",
    "from plotly.subplots import make_subplots\n",
    "from plotly.offline import init_notebook_mode, iplot\n",
    "init_notebook_mode(connected=True)\n",
    "pio.templates.default = \"none\"\n",
    "init_notebook_mode(connected=True)\n",
    "import plotly.io as pio\n",
    "\n",
    "pio.renderers\n",
    "\n",
    "import missingno as msg"
   ]
  },
  {
   "cell_type": "code",
   "execution_count": 2,
   "id": "d2d26cdb",
   "metadata": {},
   "outputs": [],
   "source": [
    "import warnings\n",
    "warnings.filterwarnings(\"ignore\") # ignoring wranings"
   ]
  },
  {
   "cell_type": "code",
   "execution_count": 3,
   "id": "290ea516",
   "metadata": {},
   "outputs": [],
   "source": [
    "# import raw data \n",
    "data = pd.read_excel('Dataset - Data Analysis.xlsx', sheet_name=\"Data\")"
   ]
  },
  {
   "cell_type": "code",
   "execution_count": 4,
   "id": "70103867",
   "metadata": {},
   "outputs": [
    {
     "data": {
      "text/plain": [
       "(134, 13)"
      ]
     },
     "execution_count": 4,
     "metadata": {},
     "output_type": "execute_result"
    }
   ],
   "source": [
    "data.shape # exploring number of observations and variables"
   ]
  },
  {
   "cell_type": "markdown",
   "id": "e3b5e2bf",
   "metadata": {},
   "source": [
    "### observations :\n",
    "> total 134 observations and 13 features."
   ]
  },
  {
   "cell_type": "markdown",
   "id": "e49bd63f",
   "metadata": {},
   "source": [
    "# Step-2"
   ]
  },
  {
   "cell_type": "markdown",
   "id": "824712d5",
   "metadata": {},
   "source": [
    "### Examining observations and features"
   ]
  },
  {
   "cell_type": "code",
   "execution_count": 5,
   "id": "20df62d0",
   "metadata": {
    "scrolled": true
   },
   "outputs": [
    {
     "data": {
      "text/html": [
       "<div>\n",
       "<style scoped>\n",
       "    .dataframe tbody tr th:only-of-type {\n",
       "        vertical-align: middle;\n",
       "    }\n",
       "\n",
       "    .dataframe tbody tr th {\n",
       "        vertical-align: top;\n",
       "    }\n",
       "\n",
       "    .dataframe thead th {\n",
       "        text-align: right;\n",
       "    }\n",
       "</style>\n",
       "<table border=\"1\" class=\"dataframe\">\n",
       "  <thead>\n",
       "    <tr style=\"text-align: right;\">\n",
       "      <th></th>\n",
       "      <th>Customer_ID</th>\n",
       "      <th>Weeks</th>\n",
       "      <th>Contract_Renewal</th>\n",
       "      <th>Data_Plan</th>\n",
       "      <th>Data_Usage</th>\n",
       "      <th>Calls_To_Customer_Care</th>\n",
       "      <th>DayMins</th>\n",
       "      <th>DayCalls</th>\n",
       "      <th>MonthlyCharge</th>\n",
       "      <th>OverageFee</th>\n",
       "      <th>RoamMins</th>\n",
       "      <th>Customer_Attrition</th>\n",
       "      <th>Inserted_Date</th>\n",
       "    </tr>\n",
       "  </thead>\n",
       "  <tbody>\n",
       "    <tr>\n",
       "      <th>0</th>\n",
       "      <td>1001</td>\n",
       "      <td>47</td>\n",
       "      <td>1</td>\n",
       "      <td>Yes</td>\n",
       "      <td>2.3</td>\n",
       "      <td>1</td>\n",
       "      <td>128.2</td>\n",
       "      <td>97</td>\n",
       "      <td>34.2</td>\n",
       "      <td>10.00</td>\n",
       "      <td>9.1</td>\n",
       "      <td>No</td>\n",
       "      <td>2022-05-16</td>\n",
       "    </tr>\n",
       "    <tr>\n",
       "      <th>1</th>\n",
       "      <td>1002</td>\n",
       "      <td>30</td>\n",
       "      <td>1</td>\n",
       "      <td>No</td>\n",
       "      <td>0.0</td>\n",
       "      <td>2</td>\n",
       "      <td>210.5</td>\n",
       "      <td>105</td>\n",
       "      <td>55.3</td>\n",
       "      <td>15.50</td>\n",
       "      <td>0.0</td>\n",
       "      <td>Yes</td>\n",
       "      <td>2022-05-16</td>\n",
       "    </tr>\n",
       "    <tr>\n",
       "      <th>2</th>\n",
       "      <td>1003</td>\n",
       "      <td>52</td>\n",
       "      <td>0</td>\n",
       "      <td>Yes</td>\n",
       "      <td>4.1</td>\n",
       "      <td>0</td>\n",
       "      <td>221.7</td>\n",
       "      <td>120</td>\n",
       "      <td>70.5</td>\n",
       "      <td>9.75</td>\n",
       "      <td>0.0</td>\n",
       "      <td>No</td>\n",
       "      <td>2022-05-16</td>\n",
       "    </tr>\n",
       "    <tr>\n",
       "      <th>3</th>\n",
       "      <td>1004</td>\n",
       "      <td>25</td>\n",
       "      <td>1</td>\n",
       "      <td>No</td>\n",
       "      <td>0.0</td>\n",
       "      <td>4</td>\n",
       "      <td>183.6</td>\n",
       "      <td>97</td>\n",
       "      <td>52.7</td>\n",
       "      <td>17.00</td>\n",
       "      <td>10.0</td>\n",
       "      <td>Yes</td>\n",
       "      <td>2022-05-16</td>\n",
       "    </tr>\n",
       "    <tr>\n",
       "      <th>4</th>\n",
       "      <td>1005</td>\n",
       "      <td>38</td>\n",
       "      <td>1</td>\n",
       "      <td>Yes</td>\n",
       "      <td>2.6</td>\n",
       "      <td>1</td>\n",
       "      <td>110.7</td>\n",
       "      <td>112</td>\n",
       "      <td>32.2</td>\n",
       "      <td>10.50</td>\n",
       "      <td>3.3</td>\n",
       "      <td>No</td>\n",
       "      <td>2022-05-16</td>\n",
       "    </tr>\n",
       "  </tbody>\n",
       "</table>\n",
       "</div>"
      ],
      "text/plain": [
       "   Customer_ID  Weeks  Contract_Renewal Data_Plan  Data_Usage  \\\n",
       "0         1001     47                 1       Yes         2.3   \n",
       "1         1002     30                 1        No         0.0   \n",
       "2         1003     52                 0       Yes         4.1   \n",
       "3         1004     25                 1        No         0.0   \n",
       "4         1005     38                 1       Yes         2.6   \n",
       "\n",
       "   Calls_To_Customer_Care  DayMins  DayCalls  MonthlyCharge  OverageFee  \\\n",
       "0                       1    128.2        97           34.2       10.00   \n",
       "1                       2    210.5       105           55.3       15.50   \n",
       "2                       0    221.7       120           70.5        9.75   \n",
       "3                       4    183.6        97           52.7       17.00   \n",
       "4                       1    110.7       112           32.2       10.50   \n",
       "\n",
       "   RoamMins Customer_Attrition Inserted_Date  \n",
       "0       9.1                 No    2022-05-16  \n",
       "1       0.0                Yes    2022-05-16  \n",
       "2       0.0                 No    2022-05-16  \n",
       "3      10.0                Yes    2022-05-16  \n",
       "4       3.3                 No    2022-05-16  "
      ]
     },
     "execution_count": 5,
     "metadata": {},
     "output_type": "execute_result"
    }
   ],
   "source": [
    "data.head() \n",
    "# it is not about first 5 or 10 rows\n",
    "# Aim is to check if data looks fine"
   ]
  },
  {
   "cell_type": "markdown",
   "id": "63cb105c",
   "metadata": {},
   "source": [
    "> have both catgorical features and numerical features and date feature"
   ]
  },
  {
   "cell_type": "code",
   "execution_count": 6,
   "id": "db0f3abc",
   "metadata": {
    "scrolled": true
   },
   "outputs": [
    {
     "data": {
      "text/plain": [
       "Customer_ID                        int64\n",
       "Weeks                              int64\n",
       "Contract_Renewal                   int64\n",
       "Data_Plan                         object\n",
       "Data_Usage                       float64\n",
       "Calls_To_Customer_Care             int64\n",
       "DayMins                          float64\n",
       "DayCalls                           int64\n",
       "MonthlyCharge                    float64\n",
       "OverageFee                       float64\n",
       "RoamMins                         float64\n",
       "Customer_Attrition                object\n",
       "Inserted_Date             datetime64[ns]\n",
       "dtype: object"
      ]
     },
     "execution_count": 6,
     "metadata": {},
     "output_type": "execute_result"
    }
   ],
   "source": [
    "data.dtypes # Checking if datatypes are read correctly. \n",
    "# We have to be sure about data types first and then match it with dtypes result. \n",
    "# If it is correct we are good otherewise we have to change the data type."
   ]
  },
  {
   "cell_type": "code",
   "execution_count": 7,
   "id": "03a85519",
   "metadata": {
    "scrolled": true
   },
   "outputs": [
    {
     "name": "stdout",
     "output_type": "stream",
     "text": [
      "Customer_ID   -- int64 --     [1001 1002 1003 1004 1005]\n",
      "Weeks   -- int64 --     [47 30 52 25 38]\n",
      "Contract_Renewal   -- int64 --     [1 0]\n",
      "Data_Plan   -- object --     ['Yes' 'No']\n",
      "Data_Usage   -- float64 --     [2.3 0.  4.1 2.6 3.8]\n",
      "Calls_To_Customer_Care   -- int64 --     [1 2 0 4 3]\n",
      "DayMins   -- float64 --     [128.2 210.5 221.7 183.6 110.7]\n",
      "DayCalls   -- int64 --     [ 97 105 120 112  95]\n",
      "MonthlyCharge   -- float64 --     [34.2 55.3 70.5 52.7 32.2]\n",
      "OverageFee   -- float64 --     [10.   15.5   9.75 17.   10.5 ]\n",
      "RoamMins   -- float64 --     [ 9.1  0.  10.   3.3  8.8]\n",
      "Customer_Attrition   -- object --     ['No' 'Yes']\n",
      "Inserted_Date   -- datetime64[ns] --     ['2022-05-16T00:00:00.000000000' '2022-05-17T00:00:00.000000000']\n"
     ]
    }
   ],
   "source": [
    "# to check data type  read correctly or not\n",
    "for i in data.columns:\n",
    "    print(i,'  --',data[i].dtype,'--    ',data[i].unique()[:5])"
   ]
  },
  {
   "cell_type": "markdown",
   "id": "6265bb4a",
   "metadata": {},
   "source": [
    "## observation:\n",
    "> data and data types  match correctly "
   ]
  },
  {
   "cell_type": "code",
   "execution_count": 8,
   "id": "bda27785",
   "metadata": {},
   "outputs": [
    {
     "name": "stdout",
     "output_type": "stream",
     "text": [
      "number of cat  Customer_ID : 130 \n",
      "number of cat  Weeks : 36 \n",
      "number of cat  Contract_Renewal : 2 \n",
      "number of cat  Data_Plan : 2 \n",
      "number of cat  Data_Usage : 28 \n",
      "number of cat  Calls_To_Customer_Care : 5 \n",
      "number of cat  DayMins : 124 \n",
      "number of cat  DayCalls : 44 \n",
      "number of cat  MonthlyCharge : 115 \n",
      "number of cat  OverageFee : 28 \n",
      "number of cat  RoamMins : 61 \n",
      "number of cat  Customer_Attrition : 2 \n",
      "number of cat  Inserted_Date : 2 \n"
     ]
    }
   ],
   "source": [
    "# to check how many catgories have each feature \n",
    "for i in data.columns:\n",
    "    print('number of cat  {0} : {1} '.format( i ,data[i].value_counts().count()))"
   ]
  },
  {
   "cell_type": "code",
   "execution_count": 9,
   "id": "97e27ac0",
   "metadata": {
    "scrolled": false
   },
   "outputs": [
    {
     "name": "stdout",
     "output_type": "stream",
     "text": [
      "<class 'pandas.core.frame.DataFrame'>\n",
      "RangeIndex: 134 entries, 0 to 133\n",
      "Data columns (total 13 columns):\n",
      " #   Column                  Non-Null Count  Dtype         \n",
      "---  ------                  --------------  -----         \n",
      " 0   Customer_ID             134 non-null    int64         \n",
      " 1   Weeks                   134 non-null    int64         \n",
      " 2   Contract_Renewal        134 non-null    int64         \n",
      " 3   Data_Plan               134 non-null    object        \n",
      " 4   Data_Usage              134 non-null    float64       \n",
      " 5   Calls_To_Customer_Care  134 non-null    int64         \n",
      " 6   DayMins                 134 non-null    float64       \n",
      " 7   DayCalls                134 non-null    int64         \n",
      " 8   MonthlyCharge           133 non-null    float64       \n",
      " 9   OverageFee              133 non-null    float64       \n",
      " 10  RoamMins                134 non-null    float64       \n",
      " 11  Customer_Attrition      134 non-null    object        \n",
      " 12  Inserted_Date           134 non-null    datetime64[ns]\n",
      "dtypes: datetime64[ns](1), float64(5), int64(5), object(2)\n",
      "memory usage: 13.7+ KB\n"
     ]
    }
   ],
   "source": [
    "# data summary\n",
    "data.info()"
   ]
  },
  {
   "cell_type": "markdown",
   "id": "ef78fa22",
   "metadata": {},
   "source": [
    "### observation :\n",
    "\n",
    "> total float_datatypes 5 \n",
    "\n",
    "> int_datatypes 5 \n",
    "\n",
    "> object_datatypes=2 and one datetime_object \n",
    "\n",
    "> There are missing values in columns"
   ]
  },
  {
   "cell_type": "markdown",
   "id": "003aa99d",
   "metadata": {},
   "source": [
    "## Check duplicates "
   ]
  },
  {
   "cell_type": "code",
   "execution_count": 10,
   "id": "d30ac67b",
   "metadata": {},
   "outputs": [
    {
     "name": "stdout",
     "output_type": "stream",
     "text": [
      "total duplicates : 3\n"
     ]
    }
   ],
   "source": [
    "# check duplicates\n",
    "duplicates=data.duplicated().sum()\n",
    "print(f'total duplicates : {duplicates}')\n"
   ]
  },
  {
   "cell_type": "code",
   "execution_count": 11,
   "id": "5c824bd6",
   "metadata": {
    "scrolled": true
   },
   "outputs": [
    {
     "data": {
      "text/html": [
       "<div>\n",
       "<style scoped>\n",
       "    .dataframe tbody tr th:only-of-type {\n",
       "        vertical-align: middle;\n",
       "    }\n",
       "\n",
       "    .dataframe tbody tr th {\n",
       "        vertical-align: top;\n",
       "    }\n",
       "\n",
       "    .dataframe thead th {\n",
       "        text-align: right;\n",
       "    }\n",
       "</style>\n",
       "<table border=\"1\" class=\"dataframe\">\n",
       "  <thead>\n",
       "    <tr style=\"text-align: right;\">\n",
       "      <th></th>\n",
       "      <th>Customer_ID</th>\n",
       "      <th>Weeks</th>\n",
       "      <th>Contract_Renewal</th>\n",
       "      <th>Data_Plan</th>\n",
       "      <th>Data_Usage</th>\n",
       "      <th>Calls_To_Customer_Care</th>\n",
       "      <th>DayMins</th>\n",
       "      <th>DayCalls</th>\n",
       "      <th>MonthlyCharge</th>\n",
       "      <th>OverageFee</th>\n",
       "      <th>RoamMins</th>\n",
       "      <th>Customer_Attrition</th>\n",
       "      <th>Inserted_Date</th>\n",
       "    </tr>\n",
       "  </thead>\n",
       "  <tbody>\n",
       "    <tr>\n",
       "      <th>114</th>\n",
       "      <td>1111</td>\n",
       "      <td>53</td>\n",
       "      <td>1</td>\n",
       "      <td>Yes</td>\n",
       "      <td>2.4</td>\n",
       "      <td>1</td>\n",
       "      <td>179.7</td>\n",
       "      <td>107</td>\n",
       "      <td>58.40</td>\n",
       "      <td>9.75</td>\n",
       "      <td>10.9</td>\n",
       "      <td>No</td>\n",
       "      <td>2022-05-17</td>\n",
       "    </tr>\n",
       "    <tr>\n",
       "      <th>115</th>\n",
       "      <td>1112</td>\n",
       "      <td>53</td>\n",
       "      <td>1</td>\n",
       "      <td>Yes</td>\n",
       "      <td>3.2</td>\n",
       "      <td>3</td>\n",
       "      <td>199.6</td>\n",
       "      <td>110</td>\n",
       "      <td>64.15</td>\n",
       "      <td>10.25</td>\n",
       "      <td>9.9</td>\n",
       "      <td>Yes</td>\n",
       "      <td>2022-05-17</td>\n",
       "    </tr>\n",
       "    <tr>\n",
       "      <th>116</th>\n",
       "      <td>1113</td>\n",
       "      <td>53</td>\n",
       "      <td>1</td>\n",
       "      <td>Yes</td>\n",
       "      <td>3.5</td>\n",
       "      <td>0</td>\n",
       "      <td>192.3</td>\n",
       "      <td>98</td>\n",
       "      <td>61.50</td>\n",
       "      <td>9.75</td>\n",
       "      <td>9.2</td>\n",
       "      <td>No</td>\n",
       "      <td>2022-05-17</td>\n",
       "    </tr>\n",
       "  </tbody>\n",
       "</table>\n",
       "</div>"
      ],
      "text/plain": [
       "     Customer_ID  Weeks  Contract_Renewal Data_Plan  Data_Usage  \\\n",
       "114         1111     53                 1       Yes         2.4   \n",
       "115         1112     53                 1       Yes         3.2   \n",
       "116         1113     53                 1       Yes         3.5   \n",
       "\n",
       "     Calls_To_Customer_Care  DayMins  DayCalls  MonthlyCharge  OverageFee  \\\n",
       "114                       1    179.7       107          58.40        9.75   \n",
       "115                       3    199.6       110          64.15       10.25   \n",
       "116                       0    192.3        98          61.50        9.75   \n",
       "\n",
       "     RoamMins Customer_Attrition Inserted_Date  \n",
       "114      10.9                 No    2022-05-17  \n",
       "115       9.9                Yes    2022-05-17  \n",
       "116       9.2                 No    2022-05-17  "
      ]
     },
     "execution_count": 11,
     "metadata": {},
     "output_type": "execute_result"
    }
   ],
   "source": [
    "# find duplicates\n",
    "data[data.duplicated()]"
   ]
  },
  {
   "cell_type": "code",
   "execution_count": 12,
   "id": "fad76c81",
   "metadata": {},
   "outputs": [
    {
     "data": {
      "text/html": [
       "<div>\n",
       "<style scoped>\n",
       "    .dataframe tbody tr th:only-of-type {\n",
       "        vertical-align: middle;\n",
       "    }\n",
       "\n",
       "    .dataframe tbody tr th {\n",
       "        vertical-align: top;\n",
       "    }\n",
       "\n",
       "    .dataframe thead th {\n",
       "        text-align: right;\n",
       "    }\n",
       "</style>\n",
       "<table border=\"1\" class=\"dataframe\">\n",
       "  <thead>\n",
       "    <tr style=\"text-align: right;\">\n",
       "      <th></th>\n",
       "      <th>Customer_ID</th>\n",
       "      <th>Weeks</th>\n",
       "      <th>Contract_Renewal</th>\n",
       "      <th>Data_Plan</th>\n",
       "      <th>Data_Usage</th>\n",
       "      <th>Calls_To_Customer_Care</th>\n",
       "      <th>DayMins</th>\n",
       "      <th>DayCalls</th>\n",
       "      <th>MonthlyCharge</th>\n",
       "      <th>OverageFee</th>\n",
       "      <th>RoamMins</th>\n",
       "      <th>Customer_Attrition</th>\n",
       "      <th>Inserted_Date</th>\n",
       "    </tr>\n",
       "  </thead>\n",
       "  <tbody>\n",
       "    <tr>\n",
       "      <th>110</th>\n",
       "      <td>1111</td>\n",
       "      <td>53</td>\n",
       "      <td>1</td>\n",
       "      <td>Yes</td>\n",
       "      <td>2.4</td>\n",
       "      <td>1</td>\n",
       "      <td>179.7</td>\n",
       "      <td>107</td>\n",
       "      <td>58.4</td>\n",
       "      <td>9.75</td>\n",
       "      <td>10.9</td>\n",
       "      <td>No</td>\n",
       "      <td>2022-05-17</td>\n",
       "    </tr>\n",
       "    <tr>\n",
       "      <th>114</th>\n",
       "      <td>1111</td>\n",
       "      <td>53</td>\n",
       "      <td>1</td>\n",
       "      <td>Yes</td>\n",
       "      <td>2.4</td>\n",
       "      <td>1</td>\n",
       "      <td>179.7</td>\n",
       "      <td>107</td>\n",
       "      <td>58.4</td>\n",
       "      <td>9.75</td>\n",
       "      <td>10.9</td>\n",
       "      <td>No</td>\n",
       "      <td>2022-05-17</td>\n",
       "    </tr>\n",
       "  </tbody>\n",
       "</table>\n",
       "</div>"
      ],
      "text/plain": [
       "     Customer_ID  Weeks  Contract_Renewal Data_Plan  Data_Usage  \\\n",
       "110         1111     53                 1       Yes         2.4   \n",
       "114         1111     53                 1       Yes         2.4   \n",
       "\n",
       "     Calls_To_Customer_Care  DayMins  DayCalls  MonthlyCharge  OverageFee  \\\n",
       "110                       1    179.7       107           58.4        9.75   \n",
       "114                       1    179.7       107           58.4        9.75   \n",
       "\n",
       "     RoamMins Customer_Attrition Inserted_Date  \n",
       "110      10.9                 No    2022-05-17  \n",
       "114      10.9                 No    2022-05-17  "
      ]
     },
     "execution_count": 12,
     "metadata": {},
     "output_type": "execute_result"
    }
   ],
   "source": [
    "# manually check duplicates \n",
    "data[data['Customer_ID']==1111]"
   ]
  },
  {
   "cell_type": "code",
   "execution_count": 13,
   "id": "6fda728b",
   "metadata": {},
   "outputs": [],
   "source": [
    "# remove duplicates\n",
    "data.drop_duplicates(inplace=True)"
   ]
  },
  {
   "cell_type": "code",
   "execution_count": 14,
   "id": "c3a4761a",
   "metadata": {},
   "outputs": [
    {
     "name": "stdout",
     "output_type": "stream",
     "text": [
      "total duplicates : 0\n"
     ]
    }
   ],
   "source": [
    "# check duplicates\n",
    "duplicates=data.duplicated().sum()\n",
    "print(f'total duplicates : {duplicates}')\n"
   ]
  },
  {
   "cell_type": "code",
   "execution_count": null,
   "id": "b027c0a7",
   "metadata": {},
   "outputs": [],
   "source": []
  },
  {
   "cell_type": "code",
   "execution_count": null,
   "id": "89a9e4ae",
   "metadata": {},
   "outputs": [],
   "source": []
  },
  {
   "cell_type": "markdown",
   "id": "c0380a32",
   "metadata": {},
   "source": [
    "## Missing Values"
   ]
  },
  {
   "cell_type": "code",
   "execution_count": 15,
   "id": "b0e26820",
   "metadata": {},
   "outputs": [
    {
     "data": {
      "text/plain": [
       "Customer_ID               0\n",
       "Weeks                     0\n",
       "Contract_Renewal          0\n",
       "Data_Plan                 0\n",
       "Data_Usage                0\n",
       "Calls_To_Customer_Care    0\n",
       "DayMins                   0\n",
       "DayCalls                  0\n",
       "MonthlyCharge             1\n",
       "OverageFee                1\n",
       "RoamMins                  0\n",
       "Customer_Attrition        0\n",
       "Inserted_Date             0\n",
       "dtype: int64"
      ]
     },
     "execution_count": 15,
     "metadata": {},
     "output_type": "execute_result"
    }
   ],
   "source": [
    "# find missing values\n",
    "data.isnull().sum()"
   ]
  },
  {
   "cell_type": "code",
   "execution_count": 16,
   "id": "9332ec55",
   "metadata": {
    "scrolled": true
   },
   "outputs": [
    {
     "name": "stdout",
     "output_type": "stream",
     "text": [
      "number of null values in percentage%   Customer_ID : 0.0 \n",
      "number of null values in percentage%   Weeks : 0.0 \n",
      "number of null values in percentage%   Contract_Renewal : 0.0 \n",
      "number of null values in percentage%   Data_Plan : 0.0 \n",
      "number of null values in percentage%   Data_Usage : 0.0 \n",
      "number of null values in percentage%   Calls_To_Customer_Care : 0.0 \n",
      "number of null values in percentage%   DayMins : 0.0 \n",
      "number of null values in percentage%   DayCalls : 0.0 \n",
      "number of null values in percentage%   MonthlyCharge : 0.763 \n",
      "number of null values in percentage%   OverageFee : 0.763 \n",
      "number of null values in percentage%   RoamMins : 0.0 \n",
      "number of null values in percentage%   Customer_Attrition : 0.0 \n",
      "number of null values in percentage%   Inserted_Date : 0.0 \n"
     ]
    }
   ],
   "source": [
    "# percentage of null values\n",
    "\n",
    "for i in data.columns:\n",
    "    #print(i,np.round(data[i].isnull().mean()*100,3))\n",
    "    print('number of null values in percentage%   {0} : {1} '.format( i ,round(data[i].isnull().mean()*100,3)))"
   ]
  },
  {
   "cell_type": "markdown",
   "id": "99999e86",
   "metadata": {},
   "source": [
    "## observation :\n",
    "> there are 2 missing values in two columns(MonthlyCharge,OverageFee )\n",
    "\n",
    ">percentage of null values is less then 1%\n"
   ]
  },
  {
   "cell_type": "markdown",
   "id": "88771e88",
   "metadata": {},
   "source": [
    "### find relationship between missing values and other feartures"
   ]
  },
  {
   "cell_type": "code",
   "execution_count": 17,
   "id": "6e242fc8",
   "metadata": {
    "scrolled": false
   },
   "outputs": [
    {
     "data": {
      "text/plain": [
       "<AxesSubplot:>"
      ]
     },
     "execution_count": 17,
     "metadata": {},
     "output_type": "execute_result"
    },
    {
     "data": {
      "image/png": "[encoded data removed]",
      "text/plain": [
       "<Figure size 2400x1000 with 3 Axes>"
      ]
     },
     "metadata": {},
     "output_type": "display_data"
    }
   ],
   "source": [
    "# to visualize null values with help of  missingno librarie\n",
    "msg.bar(data)"
   ]
  },
  {
   "cell_type": "markdown",
   "id": "7ab1abef",
   "metadata": {},
   "source": [
    "### observation :\n",
    "columns MonthlyCharge,OverageFee missing values their"
   ]
  },
  {
   "cell_type": "code",
   "execution_count": 18,
   "id": "55883ea8",
   "metadata": {
    "scrolled": false
   },
   "outputs": [
    {
     "data": {
      "text/plain": [
       "<AxesSubplot:>"
      ]
     },
     "execution_count": 18,
     "metadata": {},
     "output_type": "execute_result"
    },
    {
     "data": {
      "image/png": "[encoded data removed]",
      "text/plain": [
       "<Figure size 2500x1000 with 2 Axes>"
      ]
     },
     "metadata": {},
     "output_type": "display_data"
    }
   ],
   "source": [
    "# check any relations between null values\n",
    "msg.matrix(data)"
   ]
  },
  {
   "cell_type": "code",
   "execution_count": 19,
   "id": "cb942d63",
   "metadata": {},
   "outputs": [
    {
     "data": {
      "text/plain": [
       "<AxesSubplot:>"
      ]
     },
     "execution_count": 19,
     "metadata": {},
     "output_type": "execute_result"
    },
    {
     "data": {
      "image/png": "[encoded data removed]",
      "text/plain": [
       "<Figure size 2000x1200 with 2 Axes>"
      ]
     },
     "metadata": {},
     "output_type": "display_data"
    }
   ],
   "source": [
    "# check correation between null values\n",
    "msg.heatmap(data)"
   ]
  },
  {
   "cell_type": "markdown",
   "id": "c71b5431",
   "metadata": {},
   "source": [
    "### observation :\n",
    "> there is no relations between null values\n",
    "\n",
    "> there is no relations between any other features"
   ]
  },
  {
   "cell_type": "code",
   "execution_count": null,
   "id": "3223dd6d",
   "metadata": {},
   "outputs": [],
   "source": []
  },
  {
   "cell_type": "code",
   "execution_count": 20,
   "id": "b9ea5589",
   "metadata": {},
   "outputs": [],
   "source": [
    "# drop the missing values if there is no relation and percentage of missing values less then 1%\n",
    "data.dropna(inplace=True)"
   ]
  },
  {
   "cell_type": "code",
   "execution_count": 21,
   "id": "a074aa48",
   "metadata": {},
   "outputs": [
    {
     "data": {
      "text/plain": [
       "Customer_ID               0\n",
       "Weeks                     0\n",
       "Contract_Renewal          0\n",
       "Data_Plan                 0\n",
       "Data_Usage                0\n",
       "Calls_To_Customer_Care    0\n",
       "DayMins                   0\n",
       "DayCalls                  0\n",
       "MonthlyCharge             0\n",
       "OverageFee                0\n",
       "RoamMins                  0\n",
       "Customer_Attrition        0\n",
       "Inserted_Date             0\n",
       "dtype: int64"
      ]
     },
     "execution_count": 21,
     "metadata": {},
     "output_type": "execute_result"
    }
   ],
   "source": [
    "# check any missing values there\n",
    "# percentage of null values after drop\n",
    "data.isnull().sum()"
   ]
  },
  {
   "cell_type": "code",
   "execution_count": null,
   "id": "88411162",
   "metadata": {},
   "outputs": [],
   "source": []
  },
  {
   "cell_type": "code",
   "execution_count": null,
   "id": "ea288410",
   "metadata": {},
   "outputs": [],
   "source": []
  },
  {
   "cell_type": "markdown",
   "id": "15146111",
   "metadata": {},
   "source": [
    "# Step-3"
   ]
  },
  {
   "cell_type": "markdown",
   "id": "e4631b04",
   "metadata": {},
   "source": [
    "## Store the clean data in mysql data base and read data from database"
   ]
  },
  {
   "cell_type": "code",
   "execution_count": null,
   "id": "448396cd",
   "metadata": {},
   "outputs": [],
   "source": []
  },
  {
   "cell_type": "code",
   "execution_count": null,
   "id": "49d4765e",
   "metadata": {},
   "outputs": [],
   "source": []
  },
  {
   "cell_type": "markdown",
   "id": "2c4aa692",
   "metadata": {},
   "source": [
    "### create the database in mysql "
   ]
  },
  {
   "cell_type": "code",
   "execution_count": null,
   "id": "a5f5c2d7",
   "metadata": {},
   "outputs": [],
   "source": [
    "# create the database in mysql \n",
    "\n",
    "from sqlalchemy import create_engine\n",
    "\n",
    "username = 'root'\n",
    "password = '****'\n",
    "hostname = 'localhost'\n",
    "\n",
    "new_database = 'database'\n",
    "\n",
    "try:\n",
    "    # Set up a connection to the MySQL server\n",
    "    engine = create_engine(f'mysql+mysqlconnector://{username}:{password}@{hostname}')\n",
    "    \n",
    "    # Create the new database\n",
    "    engine.execute(f\"CREATE DATABASE {new_database}\")\n",
    "\n",
    "except Exception as e:\n",
    "    print(f'Error: {e}')\n",
    "\n",
    "finally:\n",
    "    # Close the engine\n",
    "    engine.dispose()"
   ]
  },
  {
   "cell_type": "code",
   "execution_count": null,
   "id": "03244c30",
   "metadata": {},
   "outputs": [],
   "source": []
  },
  {
   "cell_type": "code",
   "execution_count": null,
   "id": "66331ea8",
   "metadata": {},
   "outputs": [],
   "source": []
  },
  {
   "cell_type": "markdown",
   "id": "3186b899",
   "metadata": {},
   "source": [
    "### Export Data to Database"
   ]
  },
  {
   "cell_type": "code",
   "execution_count": null,
   "id": "bc1e4bfd",
   "metadata": {},
   "outputs": [],
   "source": [
    "# Uplode Data to Database\n",
    "username = 'root'\n",
    "password = 'mani'\n",
    "hostname = 'localhost'\n",
    "database = 'Vivifi'\n",
    "\n",
    "try:\n",
    "    # Set up a connection to the MySQL server\n",
    "    engine = create_engine(f'mysql+mysqlconnector://{username}:{password}@{hostname}/{database}')\n",
    "    \n",
    "    # Uplode Data to Database\n",
    "    data.to_sql('data', engine)\n",
    "\n",
    "except Exception as e:\n",
    "    print(f'Error: {e}')\n",
    "\n",
    "finally:\n",
    "    # Close the engine\n",
    "    engine.dispose()"
   ]
  },
  {
   "cell_type": "code",
   "execution_count": null,
   "id": "04b19755",
   "metadata": {},
   "outputs": [],
   "source": []
  },
  {
   "cell_type": "code",
   "execution_count": null,
   "id": "10430568",
   "metadata": {},
   "outputs": [],
   "source": []
  },
  {
   "cell_type": "markdown",
   "id": "6ca76ddd",
   "metadata": {},
   "source": [
    "### Import data from database"
   ]
  },
  {
   "cell_type": "code",
   "execution_count": 24,
   "id": "931dec2d",
   "metadata": {},
   "outputs": [],
   "source": [
    "try:\n",
    "    # Set up a connection to the MySQL server\n",
    "    engine = create_engine(f'mysql+mysqlconnector://{username}:{password}@{hostname}/{database}')\n",
    "    \n",
    "    # Create the new database\n",
    "       \n",
    "    sql = \"select * from data\"\n",
    "    \n",
    "    data= pd.read_sql(sql,con=engine)\n",
    "    \n",
    "except Exception as e:\n",
    "    print(f'Error: {e}')\n",
    "\n",
    "finally:\n",
    "    # Close the engine\n",
    "    engine.dispose()\n"
   ]
  },
  {
   "cell_type": "code",
   "execution_count": 25,
   "id": "972b50d6",
   "metadata": {
    "scrolled": true
   },
   "outputs": [
    {
     "data": {
      "text/html": [
       "<div>\n",
       "<style scoped>\n",
       "    .dataframe tbody tr th:only-of-type {\n",
       "        vertical-align: middle;\n",
       "    }\n",
       "\n",
       "    .dataframe tbody tr th {\n",
       "        vertical-align: top;\n",
       "    }\n",
       "\n",
       "    .dataframe thead th {\n",
       "        text-align: right;\n",
       "    }\n",
       "</style>\n",
       "<table border=\"1\" class=\"dataframe\">\n",
       "  <thead>\n",
       "    <tr style=\"text-align: right;\">\n",
       "      <th></th>\n",
       "      <th>index</th>\n",
       "      <th>Customer_ID</th>\n",
       "      <th>Weeks</th>\n",
       "      <th>Contract_Renewal</th>\n",
       "      <th>Data_Plan</th>\n",
       "      <th>Data_Usage</th>\n",
       "      <th>Calls_To_Customer_Care</th>\n",
       "      <th>DayMins</th>\n",
       "      <th>DayCalls</th>\n",
       "      <th>MonthlyCharge</th>\n",
       "      <th>OverageFee</th>\n",
       "      <th>RoamMins</th>\n",
       "      <th>Customer_Attrition</th>\n",
       "      <th>Inserted_Date</th>\n",
       "    </tr>\n",
       "  </thead>\n",
       "  <tbody>\n",
       "    <tr>\n",
       "      <th>0</th>\n",
       "      <td>0</td>\n",
       "      <td>1001</td>\n",
       "      <td>47</td>\n",
       "      <td>1</td>\n",
       "      <td>Yes</td>\n",
       "      <td>2.3</td>\n",
       "      <td>1</td>\n",
       "      <td>128.2</td>\n",
       "      <td>97</td>\n",
       "      <td>34.2</td>\n",
       "      <td>10.00</td>\n",
       "      <td>9.1</td>\n",
       "      <td>No</td>\n",
       "      <td>2022-05-16</td>\n",
       "    </tr>\n",
       "    <tr>\n",
       "      <th>1</th>\n",
       "      <td>1</td>\n",
       "      <td>1002</td>\n",
       "      <td>30</td>\n",
       "      <td>1</td>\n",
       "      <td>No</td>\n",
       "      <td>0.0</td>\n",
       "      <td>2</td>\n",
       "      <td>210.5</td>\n",
       "      <td>105</td>\n",
       "      <td>55.3</td>\n",
       "      <td>15.50</td>\n",
       "      <td>0.0</td>\n",
       "      <td>Yes</td>\n",
       "      <td>2022-05-16</td>\n",
       "    </tr>\n",
       "    <tr>\n",
       "      <th>2</th>\n",
       "      <td>2</td>\n",
       "      <td>1003</td>\n",
       "      <td>52</td>\n",
       "      <td>0</td>\n",
       "      <td>Yes</td>\n",
       "      <td>4.1</td>\n",
       "      <td>0</td>\n",
       "      <td>221.7</td>\n",
       "      <td>120</td>\n",
       "      <td>70.5</td>\n",
       "      <td>9.75</td>\n",
       "      <td>0.0</td>\n",
       "      <td>No</td>\n",
       "      <td>2022-05-16</td>\n",
       "    </tr>\n",
       "    <tr>\n",
       "      <th>3</th>\n",
       "      <td>3</td>\n",
       "      <td>1004</td>\n",
       "      <td>25</td>\n",
       "      <td>1</td>\n",
       "      <td>No</td>\n",
       "      <td>0.0</td>\n",
       "      <td>4</td>\n",
       "      <td>183.6</td>\n",
       "      <td>97</td>\n",
       "      <td>52.7</td>\n",
       "      <td>17.00</td>\n",
       "      <td>10.0</td>\n",
       "      <td>Yes</td>\n",
       "      <td>2022-05-16</td>\n",
       "    </tr>\n",
       "    <tr>\n",
       "      <th>4</th>\n",
       "      <td>4</td>\n",
       "      <td>1005</td>\n",
       "      <td>38</td>\n",
       "      <td>1</td>\n",
       "      <td>Yes</td>\n",
       "      <td>2.6</td>\n",
       "      <td>1</td>\n",
       "      <td>110.7</td>\n",
       "      <td>112</td>\n",
       "      <td>32.2</td>\n",
       "      <td>10.50</td>\n",
       "      <td>3.3</td>\n",
       "      <td>No</td>\n",
       "      <td>2022-05-16</td>\n",
       "    </tr>\n",
       "  </tbody>\n",
       "</table>\n",
       "</div>"
      ],
      "text/plain": [
       "   index  Customer_ID  Weeks  Contract_Renewal Data_Plan  Data_Usage  \\\n",
       "0      0         1001     47                 1       Yes         2.3   \n",
       "1      1         1002     30                 1        No         0.0   \n",
       "2      2         1003     52                 0       Yes         4.1   \n",
       "3      3         1004     25                 1        No         0.0   \n",
       "4      4         1005     38                 1       Yes         2.6   \n",
       "\n",
       "   Calls_To_Customer_Care  DayMins  DayCalls  MonthlyCharge  OverageFee  \\\n",
       "0                       1    128.2        97           34.2       10.00   \n",
       "1                       2    210.5       105           55.3       15.50   \n",
       "2                       0    221.7       120           70.5        9.75   \n",
       "3                       4    183.6        97           52.7       17.00   \n",
       "4                       1    110.7       112           32.2       10.50   \n",
       "\n",
       "   RoamMins Customer_Attrition Inserted_Date  \n",
       "0       9.1                 No    2022-05-16  \n",
       "1       0.0                Yes    2022-05-16  \n",
       "2       0.0                 No    2022-05-16  \n",
       "3      10.0                Yes    2022-05-16  \n",
       "4       3.3                 No    2022-05-16  "
      ]
     },
     "execution_count": 25,
     "metadata": {},
     "output_type": "execute_result"
    }
   ],
   "source": [
    "# from data base\n",
    "data.head()"
   ]
  },
  {
   "cell_type": "markdown",
   "id": "dc7ada32",
   "metadata": {},
   "source": [
    "# Step-4"
   ]
  },
  {
   "cell_type": "markdown",
   "id": "ff223fbf",
   "metadata": {},
   "source": [
    "# # Exploratory data analysis"
   ]
  },
  {
   "cell_type": "code",
   "execution_count": null,
   "id": "a05764f4",
   "metadata": {},
   "outputs": [],
   "source": []
  },
  {
   "cell_type": "code",
   "execution_count": null,
   "id": "c5513007",
   "metadata": {},
   "outputs": [],
   "source": []
  },
  {
   "cell_type": "markdown",
   "id": "34197971",
   "metadata": {},
   "source": [
    "## 1.What is the correlation between the number of calls to customer care and customer attrition?\n"
   ]
  },
  {
   "cell_type": "code",
   "execution_count": 26,
   "id": "46aa4656",
   "metadata": {},
   "outputs": [
    {
     "data": {
      "text/html": [
       "<div>\n",
       "<style scoped>\n",
       "    .dataframe tbody tr th:only-of-type {\n",
       "        vertical-align: middle;\n",
       "    }\n",
       "\n",
       "    .dataframe tbody tr th {\n",
       "        vertical-align: top;\n",
       "    }\n",
       "\n",
       "    .dataframe thead th {\n",
       "        text-align: right;\n",
       "    }\n",
       "</style>\n",
       "<table border=\"1\" class=\"dataframe\">\n",
       "  <thead>\n",
       "    <tr style=\"text-align: right;\">\n",
       "      <th>Calls_To_Customer_Care</th>\n",
       "      <th>0</th>\n",
       "      <th>1</th>\n",
       "      <th>2</th>\n",
       "      <th>3</th>\n",
       "      <th>4</th>\n",
       "    </tr>\n",
       "    <tr>\n",
       "      <th>Customer_Attrition</th>\n",
       "      <th></th>\n",
       "      <th></th>\n",
       "      <th></th>\n",
       "      <th></th>\n",
       "      <th></th>\n",
       "    </tr>\n",
       "  </thead>\n",
       "  <tbody>\n",
       "    <tr>\n",
       "      <th>No</th>\n",
       "      <td>15</td>\n",
       "      <td>21</td>\n",
       "      <td>18</td>\n",
       "      <td>5</td>\n",
       "      <td>0</td>\n",
       "    </tr>\n",
       "    <tr>\n",
       "      <th>Yes</th>\n",
       "      <td>13</td>\n",
       "      <td>21</td>\n",
       "      <td>21</td>\n",
       "      <td>12</td>\n",
       "      <td>3</td>\n",
       "    </tr>\n",
       "  </tbody>\n",
       "</table>\n",
       "</div>"
      ],
      "text/plain": [
       "Calls_To_Customer_Care   0   1   2   3  4\n",
       "Customer_Attrition                       \n",
       "No                      15  21  18   5  0\n",
       "Yes                     13  21  21  12  3"
      ]
     },
     "execution_count": 26,
     "metadata": {},
     "output_type": "execute_result"
    }
   ],
   "source": [
    "# The crosstab() function is used to compute a simple cross tabulation of two (or more) factors.\n",
    "\n",
    "pd.crosstab(data['Customer_Attrition'], data['Calls_To_Customer_Care'])"
   ]
  },
  {
   "cell_type": "code",
   "execution_count": 27,
   "id": "96fa28e4",
   "metadata": {},
   "outputs": [
    {
     "name": "stdout",
     "output_type": "stream",
     "text": [
      "Chi-Squared Test:\n",
      "the p-value of the chisq test is :0.2526\n"
     ]
    }
   ],
   "source": [
    "from scipy.stats import chi2_contingency\n",
    "# Create a contingency table of the data\n",
    "contingency_table = pd.crosstab(data['Customer_Attrition'], data['Calls_To_Customer_Care'])\n",
    "\n",
    "# Perform the chi-squared test\n",
    "_, p_value, _,_ = chi2_contingency(contingency_table)\n",
    "\n",
    "# Print the results\n",
    "print('Chi-Squared Test:')\n",
    "print(f'the p-value of the chisq test is :{p_value:.4f}')"
   ]
  },
  {
   "cell_type": "markdown",
   "id": "1a64cb0c",
   "metadata": {},
   "source": [
    "the P-value came higher than 0.05. Hence H0(null hypothesis) will be accepted. Which means the variables are not correlated with each other.\n",
    "\n",
    "This means, there is no correlation between the number of calls to customer care and customer attrition\n",
    "\n"
   ]
  },
  {
   "cell_type": "markdown",
   "id": "a5b676c9",
   "metadata": {},
   "source": [
    "### visualization of the number of calls to customer care and customer attrition"
   ]
  },
  {
   "cell_type": "code",
   "execution_count": 28,
   "id": "a56ab233",
   "metadata": {},
   "outputs": [
    {
     "data": {
      "application/vnd.plotly.v1+json": {
       "config": {
        "plotlyServerURL": "https://plot.ly"
       },
       "data": [
        {
         "alignmentgroup": "True",
         "bingroup": "x",
         "hovertemplate": "Customer_Attrition=No<br>Calls_To_Customer_Care=%{x}<br>count=%{y}<extra></extra>",
         "legendgroup": "No",
         "marker": {
          "color": "#1F77B4",
          "pattern": {
           "shape": ""
          }
         },
         "name": "No",
         "offsetgroup": "No",
         "orientation": "v",
         "showlegend": true,
         "type": "histogram",
         "x": [
          1,
          0,
          1,
          2,
          2,
          0,
          0,
          2,
          0,
          2,
          1,
          0,
          0,
          2,
          2,
          0,
          2,
          2,
          1,
          3,
          2,
          0,
          2,
          3,
          1,
          1,
          3,
          1,
          1,
          0,
          1,
          1,
          3,
          2,
          1,
          0,
          2,
          1,
          0,
          1,
          1,
          2,
          1,
          1,
          1,
          0,
          2,
          3,
          2,
          1,
          2,
          1,
          0,
          1,
          0,
          2,
          2,
          1,
          0
         ],
         "xaxis": "x",
         "yaxis": "y"
        },
        {
         "alignmentgroup": "True",
         "bingroup": "x",
         "hovertemplate": "Customer_Attrition=Yes<br>Calls_To_Customer_Care=%{x}<br>count=%{y}<extra></extra>",
         "legendgroup": "Yes",
         "marker": {
          "color": "#FF7F0E",
          "pattern": {
           "shape": ""
          }
         },
         "name": "Yes",
         "offsetgroup": "Yes",
         "orientation": "v",
         "showlegend": true,
         "type": "histogram",
         "x": [
          2,
          4,
          3,
          0,
          4,
          1,
          3,
          1,
          3,
          0,
          1,
          1,
          3,
          1,
          1,
          2,
          2,
          1,
          4,
          0,
          2,
          1,
          0,
          2,
          1,
          1,
          1,
          3,
          2,
          1,
          3,
          2,
          2,
          0,
          1,
          0,
          1,
          0,
          1,
          2,
          0,
          1,
          0,
          2,
          2,
          3,
          0,
          1,
          0,
          2,
          2,
          2,
          1,
          3,
          1,
          1,
          0,
          2,
          2,
          2,
          3,
          2,
          2,
          0,
          3,
          3,
          2,
          2,
          3,
          1
         ],
         "xaxis": "x",
         "yaxis": "y"
        }
       ],
       "layout": {
        "barmode": "group",
        "font": {
         "family": "San Serif"
        },
        "legend": {
         "title": {
          "text": "Customer_Attrition"
         },
         "tracegroupgap": 0
        },
        "margin": {
         "t": 60
        },
        "template": {
         "data": {
          "scatter": [
           {
            "type": "scatter"
           }
          ]
         }
        },
        "title": {
         "font": {
          "size": 34
         },
         "text": " customer attrition and contract renewal"
        },
        "xaxis": {
         "anchor": "y",
         "domain": [
          0,
          1
         ],
         "showgrid": false,
         "tickmode": "array",
         "title": {
          "text": "Contract_Renewal"
         }
        },
        "yaxis": {
         "anchor": "x",
         "domain": [
          0,
          1
         ],
         "showgrid": false,
         "title": {
          "text": "Count"
         }
        }
       }
      },
      "text/html": [
       "<div>                            <div id=\"53f6c31c-99fa-4f25-82d8-b7727977b7a7\" class=\"plotly-graph-div\" style=\"height:525px; width:100%;\"></div>            <script type=\"text/javascript\">                require([\"plotly\"], function(Plotly) {                    window.PLOTLYENV=window.PLOTLYENV || {};                                    if (document.getElementById(\"53f6c31c-99fa-4f25-82d8-b7727977b7a7\")) {                    Plotly.newPlot(                        \"53f6c31c-99fa-4f25-82d8-b7727977b7a7\",                        [{\"alignmentgroup\":\"True\",\"bingroup\":\"x\",\"hovertemplate\":\"Customer_Attrition=No<br>Calls_To_Customer_Care=%{x}<br>count=%{y}<extra></extra>\",\"legendgroup\":\"No\",\"marker\":{\"color\":\"#1F77B4\",\"pattern\":{\"shape\":\"\"}},\"name\":\"No\",\"offsetgroup\":\"No\",\"orientation\":\"v\",\"showlegend\":true,\"x\":[1,0,1,2,2,0,0,2,0,2,1,0,0,2,2,0,2,2,1,3,2,0,2,3,1,1,3,1,1,0,1,1,3,2,1,0,2,1,0,1,1,2,1,1,1,0,2,3,2,1,2,1,0,1,0,2,2,1,0],\"xaxis\":\"x\",\"yaxis\":\"y\",\"type\":\"histogram\"},{\"alignmentgroup\":\"True\",\"bingroup\":\"x\",\"hovertemplate\":\"Customer_Attrition=Yes<br>Calls_To_Customer_Care=%{x}<br>count=%{y}<extra></extra>\",\"legendgroup\":\"Yes\",\"marker\":{\"color\":\"#FF7F0E\",\"pattern\":{\"shape\":\"\"}},\"name\":\"Yes\",\"offsetgroup\":\"Yes\",\"orientation\":\"v\",\"showlegend\":true,\"x\":[2,4,3,0,4,1,3,1,3,0,1,1,3,1,1,2,2,1,4,0,2,1,0,2,1,1,1,3,2,1,3,2,2,0,1,0,1,0,1,2,0,1,0,2,2,3,0,1,0,2,2,2,1,3,1,1,0,2,2,2,3,2,2,0,3,3,2,2,3,1],\"xaxis\":\"x\",\"yaxis\":\"y\",\"type\":\"histogram\"}],                        {\"template\":{\"data\":{\"scatter\":[{\"type\":\"scatter\"}]}},\"xaxis\":{\"anchor\":\"y\",\"domain\":[0.0,1.0],\"title\":{\"text\":\"Contract_Renewal\"},\"tickmode\":\"array\",\"showgrid\":false},\"yaxis\":{\"anchor\":\"x\",\"domain\":[0.0,1.0],\"title\":{\"text\":\"Count\"},\"showgrid\":false},\"legend\":{\"title\":{\"text\":\"Customer_Attrition\"},\"tracegroupgap\":0},\"margin\":{\"t\":60},\"barmode\":\"group\",\"font\":{\"family\":\"San Serif\"},\"title\":{\"text\":\" customer attrition and contract renewal\",\"font\":{\"size\":34}}},                        {\"responsive\": true}                    ).then(function(){\n",
       "                            \n",
       "var gd = document.getElementById('53f6c31c-99fa-4f25-82d8-b7727977b7a7');\n",
       "var x = new MutationObserver(function (mutations, observer) {{\n",
       "        var display = window.getComputedStyle(gd).display;\n",
       "        if (!display || display === 'none') {{\n",
       "            console.log([gd, 'removed!']);\n",
       "            Plotly.purge(gd);\n",
       "            observer.disconnect();\n",
       "        }}\n",
       "}});\n",
       "\n",
       "// Listen for the removal of the full notebook cells\n",
       "var notebookContainer = gd.closest('#notebook-container');\n",
       "if (notebookContainer) {{\n",
       "    x.observe(notebookContainer, {childList: true});\n",
       "}}\n",
       "\n",
       "// Listen for the clearing of the current output cell\n",
       "var outputEl = gd.closest('.output');\n",
       "if (outputEl) {{\n",
       "    x.observe(outputEl, {childList: true});\n",
       "}}\n",
       "\n",
       "                        })                };                });            </script>        </div>"
      ]
     },
     "metadata": {},
     "output_type": "display_data"
    }
   ],
   "source": [
    "# create histogram plot\n",
    "fig = px.histogram(data, x=\"Calls_To_Customer_Care\", y=None, color=\"Customer_Attrition\")\n",
    "# custom layout\n",
    "fig.update_layout(title=\" customer attrition and contract renewal\", \n",
    "                  font_family=\"San Serif\",titlefont={'size': 34},\n",
    "                  barmode='group',\n",
    "                  xaxis=dict(title='Contract_Renewal',tickmode='array'),\n",
    "                  yaxis=dict(title='Count'))\n",
    "\n",
    "\n",
    "\n",
    "# remove grids on plot\n",
    "fig.update_xaxes(showgrid=False)\n",
    "fig.update_yaxes(showgrid=False)\n",
    "\n",
    "fig.show()"
   ]
  },
  {
   "cell_type": "markdown",
   "id": "27dd1a12",
   "metadata": {},
   "source": [
    "## observation\n",
    "\n",
    "> contract_renewal(4) has zero customer_Attrition\n",
    "\n",
    "> contract_renewal(1) has highest NO customer_Attrition\n",
    "\n",
    "> contract_renewal(1 and 2) has highest Yes customer_Attrition\n",
    "\n",
    "> there is no correlation between the number of calls to customer care and customer attrition"
   ]
  },
  {
   "cell_type": "code",
   "execution_count": null,
   "id": "42d4922e",
   "metadata": {},
   "outputs": [],
   "source": []
  },
  {
   "cell_type": "code",
   "execution_count": null,
   "id": "1adbcce0",
   "metadata": {},
   "outputs": [],
   "source": []
  },
  {
   "cell_type": "markdown",
   "id": "0b3c7add",
   "metadata": {},
   "source": [
    "### 2.Which data plan (Yes or No) has a higher average monthly charge?"
   ]
  },
  {
   "cell_type": "code",
   "execution_count": 29,
   "id": "fea8d249",
   "metadata": {
    "scrolled": false
   },
   "outputs": [
    {
     "data": {
      "text/html": [
       "<div>\n",
       "<style scoped>\n",
       "    .dataframe tbody tr th:only-of-type {\n",
       "        vertical-align: middle;\n",
       "    }\n",
       "\n",
       "    .dataframe tbody tr th {\n",
       "        vertical-align: top;\n",
       "    }\n",
       "\n",
       "    .dataframe thead th {\n",
       "        text-align: right;\n",
       "    }\n",
       "</style>\n",
       "<table border=\"1\" class=\"dataframe\">\n",
       "  <thead>\n",
       "    <tr style=\"text-align: right;\">\n",
       "      <th></th>\n",
       "      <th>MonthlyCharge</th>\n",
       "    </tr>\n",
       "    <tr>\n",
       "      <th>Data_Plan</th>\n",
       "      <th></th>\n",
       "    </tr>\n",
       "  </thead>\n",
       "  <tbody>\n",
       "    <tr>\n",
       "      <th>No</th>\n",
       "      <td>45.194444</td>\n",
       "    </tr>\n",
       "    <tr>\n",
       "      <th>Yes</th>\n",
       "      <td>61.890090</td>\n",
       "    </tr>\n",
       "  </tbody>\n",
       "</table>\n",
       "</div>"
      ],
      "text/plain": [
       "           MonthlyCharge\n",
       "Data_Plan               \n",
       "No             45.194444\n",
       "Yes            61.890090"
      ]
     },
     "execution_count": 29,
     "metadata": {},
     "output_type": "execute_result"
    }
   ],
   "source": [
    "# create dataframe  for average monthly charge\n",
    "monthly_charge_avg=pd.DataFrame(data.groupby('Data_Plan')['MonthlyCharge'].mean()) \n",
    "monthly_charge_avg"
   ]
  },
  {
   "cell_type": "code",
   "execution_count": 30,
   "id": "1bae9639",
   "metadata": {},
   "outputs": [
    {
     "data": {
      "application/vnd.plotly.v1+json": {
       "config": {
        "plotlyServerURL": "https://plot.ly"
       },
       "data": [
        {
         "alignmentgroup": "True",
         "hovertemplate": "x=%{x}<br>y=%{y}<br>color=%{marker.color}<extra></extra>",
         "legendgroup": "",
         "marker": {
          "color": [
           "gray",
           "#fe346e"
          ],
          "coloraxis": "coloraxis",
          "line": {
           "width": 2.5
          },
          "pattern": {
           "shape": ""
          }
         },
         "name": "",
         "offsetgroup": "",
         "orientation": "h",
         "showlegend": false,
         "textposition": "auto",
         "type": "bar",
         "x": [
          45.19444444444444,
          61.89009009009009
         ],
         "xaxis": "x",
         "y": [
          "No",
          "Yes"
         ],
         "yaxis": "y"
        }
       ],
       "layout": {
        "barmode": "relative",
        "coloraxis": {
         "colorbar": {
          "title": {
           "text": "color"
          }
         },
         "colorscale": [
          [
           0,
           "rgb(20,44,66)"
          ],
          [
           1,
           "rgb(90,179,244)"
          ]
         ]
        },
        "font": {
         "family": "San Serif"
        },
        "legend": {
         "tracegroupgap": 0
        },
        "margin": {
         "t": 60
        },
        "template": {
         "data": {
          "bar": [
           {
            "error_x": {
             "color": "rgb(51,51,51)"
            },
            "error_y": {
             "color": "rgb(51,51,51)"
            },
            "marker": {
             "line": {
              "color": "rgb(237,237,237)",
              "width": 0.5
             },
             "pattern": {
              "fillmode": "overlay",
              "size": 10,
              "solidity": 0.2
             }
            },
            "type": "bar"
           }
          ],
          "barpolar": [
           {
            "marker": {
             "line": {
              "color": "rgb(237,237,237)",
              "width": 0.5
             },
             "pattern": {
              "fillmode": "overlay",
              "size": 10,
              "solidity": 0.2
             }
            },
            "type": "barpolar"
           }
          ],
          "carpet": [
           {
            "aaxis": {
             "endlinecolor": "rgb(51,51,51)",
             "gridcolor": "white",
             "linecolor": "white",
             "minorgridcolor": "white",
             "startlinecolor": "rgb(51,51,51)"
            },
            "baxis": {
             "endlinecolor": "rgb(51,51,51)",
             "gridcolor": "white",
             "linecolor": "white",
             "minorgridcolor": "white",
             "startlinecolor": "rgb(51,51,51)"
            },
            "type": "carpet"
           }
          ],
          "choropleth": [
           {
            "colorbar": {
             "outlinewidth": 0,
             "tickcolor": "rgb(237,237,237)",
             "ticklen": 6,
             "ticks": "inside"
            },
            "type": "choropleth"
           }
          ],
          "contour": [
           {
            "colorbar": {
             "outlinewidth": 0,
             "tickcolor": "rgb(237,237,237)",
             "ticklen": 6,
             "ticks": "inside"
            },
            "colorscale": [
             [
              0,
              "rgb(20,44,66)"
             ],
             [
              1,
              "rgb(90,179,244)"
             ]
            ],
            "type": "contour"
           }
          ],
          "contourcarpet": [
           {
            "colorbar": {
             "outlinewidth": 0,
             "tickcolor": "rgb(237,237,237)",
             "ticklen": 6,
             "ticks": "inside"
            },
            "type": "contourcarpet"
           }
          ],
          "heatmap": [
           {
            "colorbar": {
             "outlinewidth": 0,
             "tickcolor": "rgb(237,237,237)",
             "ticklen": 6,
             "ticks": "inside"
            },
            "colorscale": [
             [
              0,
              "rgb(20,44,66)"
             ],
             [
              1,
              "rgb(90,179,244)"
             ]
            ],
            "type": "heatmap"
           }
          ],
          "heatmapgl": [
           {
            "colorbar": {
             "outlinewidth": 0,
             "tickcolor": "rgb(237,237,237)",
             "ticklen": 6,
             "ticks": "inside"
            },
            "colorscale": [
             [
              0,
              "rgb(20,44,66)"
             ],
             [
              1,
              "rgb(90,179,244)"
             ]
            ],
            "type": "heatmapgl"
           }
          ],
          "histogram": [
           {
            "marker": {
             "pattern": {
              "fillmode": "overlay",
              "size": 10,
              "solidity": 0.2
             }
            },
            "type": "histogram"
           }
          ],
          "histogram2d": [
           {
            "colorbar": {
             "outlinewidth": 0,
             "tickcolor": "rgb(237,237,237)",
             "ticklen": 6,
             "ticks": "inside"
            },
            "colorscale": [
             [
              0,
              "rgb(20,44,66)"
             ],
             [
              1,
              "rgb(90,179,244)"
             ]
            ],
            "type": "histogram2d"
           }
          ],
          "histogram2dcontour": [
           {
            "colorbar": {
             "outlinewidth": 0,
             "tickcolor": "rgb(237,237,237)",
             "ticklen": 6,
             "ticks": "inside"
            },
            "colorscale": [
             [
              0,
              "rgb(20,44,66)"
             ],
             [
              1,
              "rgb(90,179,244)"
             ]
            ],
            "type": "histogram2dcontour"
           }
          ],
          "mesh3d": [
           {
            "colorbar": {
             "outlinewidth": 0,
             "tickcolor": "rgb(237,237,237)",
             "ticklen": 6,
             "ticks": "inside"
            },
            "type": "mesh3d"
           }
          ],
          "parcoords": [
           {
            "line": {
             "colorbar": {
              "outlinewidth": 0,
              "tickcolor": "rgb(237,237,237)",
              "ticklen": 6,
              "ticks": "inside"
             }
            },
            "type": "parcoords"
           }
          ],
          "pie": [
           {
            "automargin": true,
            "type": "pie"
           }
          ],
          "scatter": [
           {
            "fillpattern": {
             "fillmode": "overlay",
             "size": 10,
             "solidity": 0.2
            },
            "type": "scatter"
           }
          ],
          "scatter3d": [
           {
            "line": {
             "colorbar": {
              "outlinewidth": 0,
              "tickcolor": "rgb(237,237,237)",
              "ticklen": 6,
              "ticks": "inside"
             }
            },
            "marker": {
             "colorbar": {
              "outlinewidth": 0,
              "tickcolor": "rgb(237,237,237)",
              "ticklen": 6,
              "ticks": "inside"
             }
            },
            "type": "scatter3d"
           }
          ],
          "scattercarpet": [
           {
            "marker": {
             "colorbar": {
              "outlinewidth": 0,
              "tickcolor": "rgb(237,237,237)",
              "ticklen": 6,
              "ticks": "inside"
             }
            },
            "type": "scattercarpet"
           }
          ],
          "scattergeo": [
           {
            "marker": {
             "colorbar": {
              "outlinewidth": 0,
              "tickcolor": "rgb(237,237,237)",
              "ticklen": 6,
              "ticks": "inside"
             }
            },
            "type": "scattergeo"
           }
          ],
          "scattergl": [
           {
            "marker": {
             "colorbar": {
              "outlinewidth": 0,
              "tickcolor": "rgb(237,237,237)",
              "ticklen": 6,
              "ticks": "inside"
             }
            },
            "type": "scattergl"
           }
          ],
          "scattermapbox": [
           {
            "marker": {
             "colorbar": {
              "outlinewidth": 0,
              "tickcolor": "rgb(237,237,237)",
              "ticklen": 6,
              "ticks": "inside"
             }
            },
            "type": "scattermapbox"
           }
          ],
          "scatterpolar": [
           {
            "marker": {
             "colorbar": {
              "outlinewidth": 0,
              "tickcolor": "rgb(237,237,237)",
              "ticklen": 6,
              "ticks": "inside"
             }
            },
            "type": "scatterpolar"
           }
          ],
          "scatterpolargl": [
           {
            "marker": {
             "colorbar": {
              "outlinewidth": 0,
              "tickcolor": "rgb(237,237,237)",
              "ticklen": 6,
              "ticks": "inside"
             }
            },
            "type": "scatterpolargl"
           }
          ],
          "scatterternary": [
           {
            "marker": {
             "colorbar": {
              "outlinewidth": 0,
              "tickcolor": "rgb(237,237,237)",
              "ticklen": 6,
              "ticks": "inside"
             }
            },
            "type": "scatterternary"
           }
          ],
          "surface": [
           {
            "colorbar": {
             "outlinewidth": 0,
             "tickcolor": "rgb(237,237,237)",
             "ticklen": 6,
             "ticks": "inside"
            },
            "colorscale": [
             [
              0,
              "rgb(20,44,66)"
             ],
             [
              1,
              "rgb(90,179,244)"
             ]
            ],
            "type": "surface"
           }
          ],
          "table": [
           {
            "cells": {
             "fill": {
              "color": "rgb(237,237,237)"
             },
             "line": {
              "color": "white"
             }
            },
            "header": {
             "fill": {
              "color": "rgb(217,217,217)"
             },
             "line": {
              "color": "white"
             }
            },
            "type": "table"
           }
          ]
         },
         "layout": {
          "annotationdefaults": {
           "arrowhead": 0,
           "arrowwidth": 1
          },
          "autotypenumbers": "strict",
          "coloraxis": {
           "colorbar": {
            "outlinewidth": 0,
            "tickcolor": "rgb(237,237,237)",
            "ticklen": 6,
            "ticks": "inside"
           }
          },
          "colorscale": {
           "sequential": [
            [
             0,
             "rgb(20,44,66)"
            ],
            [
             1,
             "rgb(90,179,244)"
            ]
           ],
           "sequentialminus": [
            [
             0,
             "rgb(20,44,66)"
            ],
            [
             1,
             "rgb(90,179,244)"
            ]
           ]
          },
          "colorway": [
           "#F8766D",
           "#A3A500",
           "#00BF7D",
           "#00B0F6",
           "#E76BF3"
          ],
          "font": {
           "color": "rgb(51,51,51)"
          },
          "geo": {
           "bgcolor": "white",
           "lakecolor": "white",
           "landcolor": "rgb(237,237,237)",
           "showlakes": true,
           "showland": true,
           "subunitcolor": "white"
          },
          "hoverlabel": {
           "align": "left"
          },
          "hovermode": "closest",
          "paper_bgcolor": "white",
          "plot_bgcolor": "rgb(237,237,237)",
          "polar": {
           "angularaxis": {
            "gridcolor": "white",
            "linecolor": "white",
            "showgrid": true,
            "tickcolor": "rgb(51,51,51)",
            "ticks": "outside"
           },
           "bgcolor": "rgb(237,237,237)",
           "radialaxis": {
            "gridcolor": "white",
            "linecolor": "white",
            "showgrid": true,
            "tickcolor": "rgb(51,51,51)",
            "ticks": "outside"
           }
          },
          "scene": {
           "xaxis": {
            "backgroundcolor": "rgb(237,237,237)",
            "gridcolor": "white",
            "gridwidth": 2,
            "linecolor": "white",
            "showbackground": true,
            "showgrid": true,
            "tickcolor": "rgb(51,51,51)",
            "ticks": "outside",
            "zerolinecolor": "white"
           },
           "yaxis": {
            "backgroundcolor": "rgb(237,237,237)",
            "gridcolor": "white",
            "gridwidth": 2,
            "linecolor": "white",
            "showbackground": true,
            "showgrid": true,
            "tickcolor": "rgb(51,51,51)",
            "ticks": "outside",
            "zerolinecolor": "white"
           },
           "zaxis": {
            "backgroundcolor": "rgb(237,237,237)",
            "gridcolor": "white",
            "gridwidth": 2,
            "linecolor": "white",
            "showbackground": true,
            "showgrid": true,
            "tickcolor": "rgb(51,51,51)",
            "ticks": "outside",
            "zerolinecolor": "white"
           }
          },
          "shapedefaults": {
           "fillcolor": "black",
           "line": {
            "width": 0
           },
           "opacity": 0.3
          },
          "ternary": {
           "aaxis": {
            "gridcolor": "white",
            "linecolor": "white",
            "showgrid": true,
            "tickcolor": "rgb(51,51,51)",
            "ticks": "outside"
           },
           "baxis": {
            "gridcolor": "white",
            "linecolor": "white",
            "showgrid": true,
            "tickcolor": "rgb(51,51,51)",
            "ticks": "outside"
           },
           "bgcolor": "rgb(237,237,237)",
           "caxis": {
            "gridcolor": "white",
            "linecolor": "white",
            "showgrid": true,
            "tickcolor": "rgb(51,51,51)",
            "ticks": "outside"
           }
          },
          "xaxis": {
           "automargin": true,
           "gridcolor": "white",
           "linecolor": "white",
           "showgrid": true,
           "tickcolor": "rgb(51,51,51)",
           "ticks": "outside",
           "title": {
            "standoff": 15
           },
           "zerolinecolor": "white"
          },
          "yaxis": {
           "automargin": true,
           "gridcolor": "white",
           "linecolor": "white",
           "showgrid": true,
           "tickcolor": "rgb(51,51,51)",
           "ticks": "outside",
           "title": {
            "standoff": 15
           },
           "zerolinecolor": "white"
          }
         }
        },
        "title": {
         "font": {
          "size": 34
         },
         "text": " Average Monthly Charge"
        },
        "xaxis": {
         "anchor": "y",
         "domain": [
          0,
          1
         ],
         "showgrid": false,
         "title": {
          "text": "Average"
         }
        },
        "yaxis": {
         "anchor": "x",
         "color": "#fe346e",
         "domain": [
          0,
          1
         ],
         "showgrid": false,
         "tickmode": "array",
         "ticktext": [
          "Data_Plan_No",
          "Data_Plan_Yes"
         ],
         "tickvals": [
          0,
          1
         ],
         "title": {
          "text": "Data Plan"
         }
        }
       }
      },
      "text/html": [
       "<div>                            <div id=\"5fa1bba7-7443-4958-913e-b9092653ba4e\" class=\"plotly-graph-div\" style=\"height:525px; width:100%;\"></div>            <script type=\"text/javascript\">                require([\"plotly\"], function(Plotly) {                    window.PLOTLYENV=window.PLOTLYENV || {};                                    if (document.getElementById(\"5fa1bba7-7443-4958-913e-b9092653ba4e\")) {                    Plotly.newPlot(                        \"5fa1bba7-7443-4958-913e-b9092653ba4e\",                        [{\"alignmentgroup\":\"True\",\"hovertemplate\":\"x=%{x}<br>y=%{y}<br>color=%{marker.color}<extra></extra>\",\"legendgroup\":\"\",\"marker\":{\"color\":[\"gray\",\"#fe346e\"],\"coloraxis\":\"coloraxis\",\"pattern\":{\"shape\":\"\"},\"line\":{\"width\":2.5}},\"name\":\"\",\"offsetgroup\":\"\",\"orientation\":\"h\",\"showlegend\":false,\"textposition\":\"auto\",\"x\":[45.19444444444444,61.89009009009009],\"xaxis\":\"x\",\"y\":[\"No\",\"Yes\"],\"yaxis\":\"y\",\"type\":\"bar\"}],                        {\"template\":{\"data\":{\"barpolar\":[{\"marker\":{\"line\":{\"color\":\"rgb(237,237,237)\",\"width\":0.5},\"pattern\":{\"fillmode\":\"overlay\",\"size\":10,\"solidity\":0.2}},\"type\":\"barpolar\"}],\"bar\":[{\"error_x\":{\"color\":\"rgb(51,51,51)\"},\"error_y\":{\"color\":\"rgb(51,51,51)\"},\"marker\":{\"line\":{\"color\":\"rgb(237,237,237)\",\"width\":0.5},\"pattern\":{\"fillmode\":\"overlay\",\"size\":10,\"solidity\":0.2}},\"type\":\"bar\"}],\"carpet\":[{\"aaxis\":{\"endlinecolor\":\"rgb(51,51,51)\",\"gridcolor\":\"white\",\"linecolor\":\"white\",\"minorgridcolor\":\"white\",\"startlinecolor\":\"rgb(51,51,51)\"},\"baxis\":{\"endlinecolor\":\"rgb(51,51,51)\",\"gridcolor\":\"white\",\"linecolor\":\"white\",\"minorgridcolor\":\"white\",\"startlinecolor\":\"rgb(51,51,51)\"},\"type\":\"carpet\"}],\"choropleth\":[{\"colorbar\":{\"outlinewidth\":0,\"tickcolor\":\"rgb(237,237,237)\",\"ticklen\":6,\"ticks\":\"inside\"},\"type\":\"choropleth\"}],\"contourcarpet\":[{\"colorbar\":{\"outlinewidth\":0,\"tickcolor\":\"rgb(237,237,237)\",\"ticklen\":6,\"ticks\":\"inside\"},\"type\":\"contourcarpet\"}],\"contour\":[{\"colorbar\":{\"outlinewidth\":0,\"tickcolor\":\"rgb(237,237,237)\",\"ticklen\":6,\"ticks\":\"inside\"},\"colorscale\":[[0,\"rgb(20,44,66)\"],[1,\"rgb(90,179,244)\"]],\"type\":\"contour\"}],\"heatmapgl\":[{\"colorbar\":{\"outlinewidth\":0,\"tickcolor\":\"rgb(237,237,237)\",\"ticklen\":6,\"ticks\":\"inside\"},\"colorscale\":[[0,\"rgb(20,44,66)\"],[1,\"rgb(90,179,244)\"]],\"type\":\"heatmapgl\"}],\"heatmap\":[{\"colorbar\":{\"outlinewidth\":0,\"tickcolor\":\"rgb(237,237,237)\",\"ticklen\":6,\"ticks\":\"inside\"},\"colorscale\":[[0,\"rgb(20,44,66)\"],[1,\"rgb(90,179,244)\"]],\"type\":\"heatmap\"}],\"histogram2dcontour\":[{\"colorbar\":{\"outlinewidth\":0,\"tickcolor\":\"rgb(237,237,237)\",\"ticklen\":6,\"ticks\":\"inside\"},\"colorscale\":[[0,\"rgb(20,44,66)\"],[1,\"rgb(90,179,244)\"]],\"type\":\"histogram2dcontour\"}],\"histogram2d\":[{\"colorbar\":{\"outlinewidth\":0,\"tickcolor\":\"rgb(237,237,237)\",\"ticklen\":6,\"ticks\":\"inside\"},\"colorscale\":[[0,\"rgb(20,44,66)\"],[1,\"rgb(90,179,244)\"]],\"type\":\"histogram2d\"}],\"histogram\":[{\"marker\":{\"pattern\":{\"fillmode\":\"overlay\",\"size\":10,\"solidity\":0.2}},\"type\":\"histogram\"}],\"mesh3d\":[{\"colorbar\":{\"outlinewidth\":0,\"tickcolor\":\"rgb(237,237,237)\",\"ticklen\":6,\"ticks\":\"inside\"},\"type\":\"mesh3d\"}],\"parcoords\":[{\"line\":{\"colorbar\":{\"outlinewidth\":0,\"tickcolor\":\"rgb(237,237,237)\",\"ticklen\":6,\"ticks\":\"inside\"}},\"type\":\"parcoords\"}],\"pie\":[{\"automargin\":true,\"type\":\"pie\"}],\"scatter3d\":[{\"line\":{\"colorbar\":{\"outlinewidth\":0,\"tickcolor\":\"rgb(237,237,237)\",\"ticklen\":6,\"ticks\":\"inside\"}},\"marker\":{\"colorbar\":{\"outlinewidth\":0,\"tickcolor\":\"rgb(237,237,237)\",\"ticklen\":6,\"ticks\":\"inside\"}},\"type\":\"scatter3d\"}],\"scattercarpet\":[{\"marker\":{\"colorbar\":{\"outlinewidth\":0,\"tickcolor\":\"rgb(237,237,237)\",\"ticklen\":6,\"ticks\":\"inside\"}},\"type\":\"scattercarpet\"}],\"scattergeo\":[{\"marker\":{\"colorbar\":{\"outlinewidth\":0,\"tickcolor\":\"rgb(237,237,237)\",\"ticklen\":6,\"ticks\":\"inside\"}},\"type\":\"scattergeo\"}],\"scattergl\":[{\"marker\":{\"colorbar\":{\"outlinewidth\":0,\"tickcolor\":\"rgb(237,237,237)\",\"ticklen\":6,\"ticks\":\"inside\"}},\"type\":\"scattergl\"}],\"scattermapbox\":[{\"marker\":{\"colorbar\":{\"outlinewidth\":0,\"tickcolor\":\"rgb(237,237,237)\",\"ticklen\":6,\"ticks\":\"inside\"}},\"type\":\"scattermapbox\"}],\"scatterpolargl\":[{\"marker\":{\"colorbar\":{\"outlinewidth\":0,\"tickcolor\":\"rgb(237,237,237)\",\"ticklen\":6,\"ticks\":\"inside\"}},\"type\":\"scatterpolargl\"}],\"scatterpolar\":[{\"marker\":{\"colorbar\":{\"outlinewidth\":0,\"tickcolor\":\"rgb(237,237,237)\",\"ticklen\":6,\"ticks\":\"inside\"}},\"type\":\"scatterpolar\"}],\"scatter\":[{\"fillpattern\":{\"fillmode\":\"overlay\",\"size\":10,\"solidity\":0.2},\"type\":\"scatter\"}],\"scatterternary\":[{\"marker\":{\"colorbar\":{\"outlinewidth\":0,\"tickcolor\":\"rgb(237,237,237)\",\"ticklen\":6,\"ticks\":\"inside\"}},\"type\":\"scatterternary\"}],\"surface\":[{\"colorbar\":{\"outlinewidth\":0,\"tickcolor\":\"rgb(237,237,237)\",\"ticklen\":6,\"ticks\":\"inside\"},\"colorscale\":[[0,\"rgb(20,44,66)\"],[1,\"rgb(90,179,244)\"]],\"type\":\"surface\"}],\"table\":[{\"cells\":{\"fill\":{\"color\":\"rgb(237,237,237)\"},\"line\":{\"color\":\"white\"}},\"header\":{\"fill\":{\"color\":\"rgb(217,217,217)\"},\"line\":{\"color\":\"white\"}},\"type\":\"table\"}]},\"layout\":{\"annotationdefaults\":{\"arrowhead\":0,\"arrowwidth\":1},\"autotypenumbers\":\"strict\",\"coloraxis\":{\"colorbar\":{\"outlinewidth\":0,\"tickcolor\":\"rgb(237,237,237)\",\"ticklen\":6,\"ticks\":\"inside\"}},\"colorscale\":{\"sequential\":[[0,\"rgb(20,44,66)\"],[1,\"rgb(90,179,244)\"]],\"sequentialminus\":[[0,\"rgb(20,44,66)\"],[1,\"rgb(90,179,244)\"]]},\"colorway\":[\"#F8766D\",\"#A3A500\",\"#00BF7D\",\"#00B0F6\",\"#E76BF3\"],\"font\":{\"color\":\"rgb(51,51,51)\"},\"geo\":{\"bgcolor\":\"white\",\"lakecolor\":\"white\",\"landcolor\":\"rgb(237,237,237)\",\"showlakes\":true,\"showland\":true,\"subunitcolor\":\"white\"},\"hoverlabel\":{\"align\":\"left\"},\"hovermode\":\"closest\",\"paper_bgcolor\":\"white\",\"plot_bgcolor\":\"rgb(237,237,237)\",\"polar\":{\"angularaxis\":{\"gridcolor\":\"white\",\"linecolor\":\"white\",\"showgrid\":true,\"tickcolor\":\"rgb(51,51,51)\",\"ticks\":\"outside\"},\"bgcolor\":\"rgb(237,237,237)\",\"radialaxis\":{\"gridcolor\":\"white\",\"linecolor\":\"white\",\"showgrid\":true,\"tickcolor\":\"rgb(51,51,51)\",\"ticks\":\"outside\"}},\"scene\":{\"xaxis\":{\"backgroundcolor\":\"rgb(237,237,237)\",\"gridcolor\":\"white\",\"gridwidth\":2,\"linecolor\":\"white\",\"showbackground\":true,\"showgrid\":true,\"tickcolor\":\"rgb(51,51,51)\",\"ticks\":\"outside\",\"zerolinecolor\":\"white\"},\"yaxis\":{\"backgroundcolor\":\"rgb(237,237,237)\",\"gridcolor\":\"white\",\"gridwidth\":2,\"linecolor\":\"white\",\"showbackground\":true,\"showgrid\":true,\"tickcolor\":\"rgb(51,51,51)\",\"ticks\":\"outside\",\"zerolinecolor\":\"white\"},\"zaxis\":{\"backgroundcolor\":\"rgb(237,237,237)\",\"gridcolor\":\"white\",\"gridwidth\":2,\"linecolor\":\"white\",\"showbackground\":true,\"showgrid\":true,\"tickcolor\":\"rgb(51,51,51)\",\"ticks\":\"outside\",\"zerolinecolor\":\"white\"}},\"shapedefaults\":{\"fillcolor\":\"black\",\"line\":{\"width\":0},\"opacity\":0.3},\"ternary\":{\"aaxis\":{\"gridcolor\":\"white\",\"linecolor\":\"white\",\"showgrid\":true,\"tickcolor\":\"rgb(51,51,51)\",\"ticks\":\"outside\"},\"baxis\":{\"gridcolor\":\"white\",\"linecolor\":\"white\",\"showgrid\":true,\"tickcolor\":\"rgb(51,51,51)\",\"ticks\":\"outside\"},\"bgcolor\":\"rgb(237,237,237)\",\"caxis\":{\"gridcolor\":\"white\",\"linecolor\":\"white\",\"showgrid\":true,\"tickcolor\":\"rgb(51,51,51)\",\"ticks\":\"outside\"}},\"xaxis\":{\"automargin\":true,\"gridcolor\":\"white\",\"linecolor\":\"white\",\"showgrid\":true,\"tickcolor\":\"rgb(51,51,51)\",\"ticks\":\"outside\",\"title\":{\"standoff\":15},\"zerolinecolor\":\"white\"},\"yaxis\":{\"automargin\":true,\"gridcolor\":\"white\",\"linecolor\":\"white\",\"showgrid\":true,\"tickcolor\":\"rgb(51,51,51)\",\"ticks\":\"outside\",\"title\":{\"standoff\":15},\"zerolinecolor\":\"white\"}}},\"xaxis\":{\"anchor\":\"y\",\"domain\":[0.0,1.0],\"title\":{\"text\":\"Average\"},\"showgrid\":false},\"yaxis\":{\"anchor\":\"x\",\"domain\":[0.0,1.0],\"title\":{\"text\":\"Data Plan\"},\"tickmode\":\"array\",\"ticktext\":[\"Data_Plan_No\",\"Data_Plan_Yes\"],\"tickvals\":[0,1],\"color\":\"#fe346e\",\"showgrid\":false},\"coloraxis\":{\"colorbar\":{\"title\":{\"text\":\"color\"}},\"colorscale\":[[0.0,\"rgb(20,44,66)\"],[1.0,\"rgb(90,179,244)\"]]},\"legend\":{\"tracegroupgap\":0},\"margin\":{\"t\":60},\"barmode\":\"relative\",\"font\":{\"family\":\"San Serif\"},\"title\":{\"text\":\" Average Monthly Charge\",\"font\":{\"size\":34}}},                        {\"responsive\": true}                    ).then(function(){\n",
       "                            \n",
       "var gd = document.getElementById('5fa1bba7-7443-4958-913e-b9092653ba4e');\n",
       "var x = new MutationObserver(function (mutations, observer) {{\n",
       "        var display = window.getComputedStyle(gd).display;\n",
       "        if (!display || display === 'none') {{\n",
       "            console.log([gd, 'removed!']);\n",
       "            Plotly.purge(gd);\n",
       "            observer.disconnect();\n",
       "        }}\n",
       "}});\n",
       "\n",
       "// Listen for the removal of the full notebook cells\n",
       "var notebookContainer = gd.closest('#notebook-container');\n",
       "if (notebookContainer) {{\n",
       "    x.observe(notebookContainer, {childList: true});\n",
       "}}\n",
       "\n",
       "// Listen for the clearing of the current output cell\n",
       "var outputEl = gd.closest('.output');\n",
       "if (outputEl) {{\n",
       "    x.observe(outputEl, {childList: true});\n",
       "}}\n",
       "\n",
       "                        })                };                });            </script>        </div>"
      ]
     },
     "metadata": {},
     "output_type": "display_data"
    }
   ],
   "source": [
    "# create bar plot\n",
    "fig=px.bar(data,x=monthly_charge_avg['MonthlyCharge'],y=monthly_charge_avg.index,color=monthly_charge_avg['MonthlyCharge'],orientation='h',template=\"ggplot2\")\n",
    "\n",
    "\n",
    "\n",
    "# custom color\n",
    "colors = ['gray','#fe346e']\n",
    "\n",
    "# custom layout\n",
    "fig.update_layout(title=\" Average Monthly Charge\", \n",
    "                  font_family=\"San Serif\",titlefont={'size': 34},\n",
    "                  yaxis=dict(title='Data Plan',tickmode='array',ticktext=['Data_Plan_No', 'Data_Plan_Yes'],tickvals=[0, 1],color='#fe346e'),\n",
    "                  xaxis=dict(title='Average'))\n",
    "\n",
    "# custom traces\n",
    "fig.update_traces(marker_color=colors, marker_line_color=None,\n",
    "                  marker_line_width=2.5, opacity=None)\n",
    "\n",
    "# remove grids on plot\n",
    "fig.update_xaxes(showgrid=False)\n",
    "fig.update_yaxes(showgrid=False)\n",
    "\n",
    "fig.show()"
   ]
  },
  {
   "cell_type": "markdown",
   "id": "fea1724a",
   "metadata": {},
   "source": [
    "## observation"
   ]
  },
  {
   "cell_type": "markdown",
   "id": "1dea45b2",
   "metadata": {},
   "source": [
    "> Customer who have  data plan (Yes ) has a higher average monthly charge \n",
    "\n",
    "> Average is '61.8'"
   ]
  },
  {
   "cell_type": "code",
   "execution_count": null,
   "id": "de442975",
   "metadata": {},
   "outputs": [],
   "source": []
  },
  {
   "cell_type": "code",
   "execution_count": null,
   "id": "8e814468",
   "metadata": {},
   "outputs": [],
   "source": []
  },
  {
   "cell_type": "markdown",
   "id": "7f2f6d56",
   "metadata": {},
   "source": [
    "### 3.Is there a relationship between customer attrition and contract renewal?"
   ]
  },
  {
   "cell_type": "code",
   "execution_count": 31,
   "id": "adb03dd2",
   "metadata": {},
   "outputs": [
    {
     "data": {
      "text/html": [
       "<div>\n",
       "<style scoped>\n",
       "    .dataframe tbody tr th:only-of-type {\n",
       "        vertical-align: middle;\n",
       "    }\n",
       "\n",
       "    .dataframe tbody tr th {\n",
       "        vertical-align: top;\n",
       "    }\n",
       "\n",
       "    .dataframe thead th {\n",
       "        text-align: right;\n",
       "    }\n",
       "</style>\n",
       "<table border=\"1\" class=\"dataframe\">\n",
       "  <thead>\n",
       "    <tr style=\"text-align: right;\">\n",
       "      <th>Contract_Renewal</th>\n",
       "      <th>0</th>\n",
       "      <th>1</th>\n",
       "    </tr>\n",
       "    <tr>\n",
       "      <th>Customer_Attrition</th>\n",
       "      <th></th>\n",
       "      <th></th>\n",
       "    </tr>\n",
       "  </thead>\n",
       "  <tbody>\n",
       "    <tr>\n",
       "      <th>No</th>\n",
       "      <td>2</td>\n",
       "      <td>57</td>\n",
       "    </tr>\n",
       "    <tr>\n",
       "      <th>Yes</th>\n",
       "      <td>8</td>\n",
       "      <td>62</td>\n",
       "    </tr>\n",
       "  </tbody>\n",
       "</table>\n",
       "</div>"
      ],
      "text/plain": [
       "Contract_Renewal    0   1\n",
       "Customer_Attrition       \n",
       "No                  2  57\n",
       "Yes                 8  62"
      ]
     },
     "execution_count": 31,
     "metadata": {},
     "output_type": "execute_result"
    }
   ],
   "source": [
    "# The crosstab() function is used to compute a simple cross tabulation of two (or more) factors.\n",
    "pd.crosstab(data['Customer_Attrition'], data['Contract_Renewal'])"
   ]
  },
  {
   "cell_type": "code",
   "execution_count": 32,
   "id": "147a1018",
   "metadata": {},
   "outputs": [
    {
     "name": "stdout",
     "output_type": "stream",
     "text": [
      "Chi-Squared Test:\n",
      "p-value = 0.1705\n"
     ]
    }
   ],
   "source": [
    "\n",
    "# Create a contingency table of the data\n",
    "contingency_table = pd.crosstab(data['Customer_Attrition'], data['Contract_Renewal'])\n",
    "\n",
    "# Perform the chi-squared test\n",
    "_, p_value, _, _ = chi2_contingency(contingency_table)\n",
    "\n",
    "# Print the results\n",
    "print('Chi-Squared Test:')\n",
    "\n",
    "print(f'p-value = {p_value:.4f}')\n"
   ]
  },
  {
   "cell_type": "markdown",
   "id": "831a3a31",
   "metadata": {},
   "source": [
    "## Observation\n",
    "\n",
    "the P-value came higher than 0.05. Hence H0(null hypothesis) will be accepted. Which means the variables are not correlated with each other.\n",
    "\n",
    "This means, there is no relationship between customer attrition and contract renewal\n",
    "\n",
    "\n"
   ]
  },
  {
   "cell_type": "markdown",
   "id": "c4d8e967",
   "metadata": {},
   "source": [
    "##  visualization of customer attrition and contract renewal"
   ]
  },
  {
   "cell_type": "code",
   "execution_count": 33,
   "id": "b84e2ee9",
   "metadata": {
    "scrolled": false
   },
   "outputs": [
    {
     "data": {
      "application/vnd.plotly.v1+json": {
       "config": {
        "plotlyServerURL": "https://plot.ly"
       },
       "data": [
        {
         "alignmentgroup": "True",
         "bingroup": "x",
         "hovertemplate": "Customer_Attrition=No<br>Contract_Renewal=%{x}<br>count=%{y}<extra></extra>",
         "legendgroup": "No",
         "marker": {
          "color": "#1F77B4",
          "pattern": {
           "shape": ""
          }
         },
         "name": "No",
         "offsetgroup": "No",
         "orientation": "v",
         "showlegend": true,
         "type": "histogram",
         "x": [
          1,
          0,
          1,
          1,
          1,
          1,
          1,
          1,
          1,
          1,
          1,
          1,
          1,
          1,
          1,
          0,
          1,
          1,
          1,
          1,
          1,
          1,
          1,
          1,
          1,
          1,
          1,
          1,
          1,
          1,
          1,
          1,
          1,
          1,
          1,
          1,
          1,
          1,
          1,
          1,
          1,
          1,
          1,
          1,
          1,
          1,
          1,
          1,
          1,
          1,
          1,
          1,
          1,
          1,
          1,
          1,
          1,
          1,
          1
         ],
         "xaxis": "x",
         "yaxis": "y"
        },
        {
         "alignmentgroup": "True",
         "bingroup": "x",
         "hovertemplate": "Customer_Attrition=Yes<br>Contract_Renewal=%{x}<br>count=%{y}<extra></extra>",
         "legendgroup": "Yes",
         "marker": {
          "color": "#FF7F0E",
          "pattern": {
           "shape": ""
          }
         },
         "name": "Yes",
         "offsetgroup": "Yes",
         "orientation": "v",
         "showlegend": true,
         "type": "histogram",
         "x": [
          1,
          1,
          0,
          0,
          1,
          1,
          0,
          0,
          1,
          0,
          1,
          1,
          1,
          0,
          1,
          1,
          0,
          1,
          0,
          1,
          1,
          1,
          1,
          1,
          1,
          1,
          1,
          1,
          1,
          1,
          1,
          1,
          1,
          1,
          1,
          1,
          1,
          1,
          1,
          1,
          1,
          1,
          1,
          1,
          1,
          1,
          1,
          1,
          1,
          1,
          1,
          1,
          1,
          1,
          1,
          1,
          1,
          1,
          1,
          1,
          1,
          1,
          1,
          1,
          1,
          1,
          1,
          1,
          1,
          1
         ],
         "xaxis": "x",
         "yaxis": "y"
        }
       ],
       "layout": {
        "barmode": "group",
        "font": {
         "family": "San Serif"
        },
        "legend": {
         "title": {
          "text": "Customer_Attrition"
         },
         "tracegroupgap": 0
        },
        "margin": {
         "t": 60
        },
        "template": {
         "data": {
          "scatter": [
           {
            "type": "scatter"
           }
          ]
         }
        },
        "title": {
         "font": {
          "size": 34
         },
         "text": " customer attrition and contract renewal"
        },
        "xaxis": {
         "anchor": "y",
         "domain": [
          0,
          1
         ],
         "showgrid": false,
         "tickmode": "array",
         "tickvals": [
          0,
          1
         ],
         "title": {
          "text": "Contract_Renewal"
         }
        },
        "yaxis": {
         "anchor": "x",
         "domain": [
          0,
          1
         ],
         "showgrid": false,
         "title": {
          "text": "Count"
         }
        }
       }
      },
      "text/html": [
       "<div>                            <div id=\"27726d45-0ba9-4f77-8c93-8b657daf0d52\" class=\"plotly-graph-div\" style=\"height:525px; width:100%;\"></div>            <script type=\"text/javascript\">                require([\"plotly\"], function(Plotly) {                    window.PLOTLYENV=window.PLOTLYENV || {};                                    if (document.getElementById(\"27726d45-0ba9-4f77-8c93-8b657daf0d52\")) {                    Plotly.newPlot(                        \"27726d45-0ba9-4f77-8c93-8b657daf0d52\",                        [{\"alignmentgroup\":\"True\",\"bingroup\":\"x\",\"hovertemplate\":\"Customer_Attrition=No<br>Contract_Renewal=%{x}<br>count=%{y}<extra></extra>\",\"legendgroup\":\"No\",\"marker\":{\"color\":\"#1F77B4\",\"pattern\":{\"shape\":\"\"}},\"name\":\"No\",\"offsetgroup\":\"No\",\"orientation\":\"v\",\"showlegend\":true,\"x\":[1,0,1,1,1,1,1,1,1,1,1,1,1,1,1,0,1,1,1,1,1,1,1,1,1,1,1,1,1,1,1,1,1,1,1,1,1,1,1,1,1,1,1,1,1,1,1,1,1,1,1,1,1,1,1,1,1,1,1],\"xaxis\":\"x\",\"yaxis\":\"y\",\"type\":\"histogram\"},{\"alignmentgroup\":\"True\",\"bingroup\":\"x\",\"hovertemplate\":\"Customer_Attrition=Yes<br>Contract_Renewal=%{x}<br>count=%{y}<extra></extra>\",\"legendgroup\":\"Yes\",\"marker\":{\"color\":\"#FF7F0E\",\"pattern\":{\"shape\":\"\"}},\"name\":\"Yes\",\"offsetgroup\":\"Yes\",\"orientation\":\"v\",\"showlegend\":true,\"x\":[1,1,0,0,1,1,0,0,1,0,1,1,1,0,1,1,0,1,0,1,1,1,1,1,1,1,1,1,1,1,1,1,1,1,1,1,1,1,1,1,1,1,1,1,1,1,1,1,1,1,1,1,1,1,1,1,1,1,1,1,1,1,1,1,1,1,1,1,1,1],\"xaxis\":\"x\",\"yaxis\":\"y\",\"type\":\"histogram\"}],                        {\"template\":{\"data\":{\"scatter\":[{\"type\":\"scatter\"}]}},\"xaxis\":{\"anchor\":\"y\",\"domain\":[0.0,1.0],\"title\":{\"text\":\"Contract_Renewal\"},\"tickmode\":\"array\",\"tickvals\":[0,1],\"showgrid\":false},\"yaxis\":{\"anchor\":\"x\",\"domain\":[0.0,1.0],\"title\":{\"text\":\"Count\"},\"showgrid\":false},\"legend\":{\"title\":{\"text\":\"Customer_Attrition\"},\"tracegroupgap\":0},\"margin\":{\"t\":60},\"barmode\":\"group\",\"font\":{\"family\":\"San Serif\"},\"title\":{\"text\":\" customer attrition and contract renewal\",\"font\":{\"size\":34}}},                        {\"responsive\": true}                    ).then(function(){\n",
       "                            \n",
       "var gd = document.getElementById('27726d45-0ba9-4f77-8c93-8b657daf0d52');\n",
       "var x = new MutationObserver(function (mutations, observer) {{\n",
       "        var display = window.getComputedStyle(gd).display;\n",
       "        if (!display || display === 'none') {{\n",
       "            console.log([gd, 'removed!']);\n",
       "            Plotly.purge(gd);\n",
       "            observer.disconnect();\n",
       "        }}\n",
       "}});\n",
       "\n",
       "// Listen for the removal of the full notebook cells\n",
       "var notebookContainer = gd.closest('#notebook-container');\n",
       "if (notebookContainer) {{\n",
       "    x.observe(notebookContainer, {childList: true});\n",
       "}}\n",
       "\n",
       "// Listen for the clearing of the current output cell\n",
       "var outputEl = gd.closest('.output');\n",
       "if (outputEl) {{\n",
       "    x.observe(outputEl, {childList: true});\n",
       "}}\n",
       "\n",
       "                        })                };                });            </script>        </div>"
      ]
     },
     "metadata": {},
     "output_type": "display_data"
    }
   ],
   "source": [
    "# create histogram plot\n",
    "fig = px.histogram(data, x=\"Contract_Renewal\", y=None, color=\"Customer_Attrition\")\n",
    "\n",
    "fig.update_layout(title=\" customer attrition and contract renewal\", \n",
    "                  font_family=\"San Serif\",titlefont={'size': 34},\n",
    "                  barmode='group',\n",
    "                  xaxis=dict(title='Contract_Renewal',tickmode='array',tickvals=[0, 1]),\n",
    "                  yaxis=dict(title='Count'))\n",
    "\n",
    "\n",
    "\n",
    "\n",
    "fig.update_xaxes(showgrid=False)\n",
    "fig.update_yaxes(showgrid=False)\n",
    "\n",
    "fig.show()"
   ]
  },
  {
   "cell_type": "markdown",
   "id": "e800da79",
   "metadata": {},
   "source": [
    "## observation\n",
    "\n",
    "> in both contract_renewal 0,1 has highest Customer_Attrition is \"yes \" \n",
    "\n",
    ">there is no relationship between customer attrition and contract renewal\n",
    " "
   ]
  },
  {
   "cell_type": "code",
   "execution_count": null,
   "id": "1e8b6f3c",
   "metadata": {},
   "outputs": [],
   "source": []
  },
  {
   "cell_type": "code",
   "execution_count": null,
   "id": "bb778caa",
   "metadata": {},
   "outputs": [],
   "source": []
  },
  {
   "cell_type": "markdown",
   "id": "72c2232a",
   "metadata": {},
   "source": [
    "### 4.Which feature(s) have the highest correlation with customer attrition?"
   ]
  },
  {
   "cell_type": "code",
   "execution_count": 34,
   "id": "3504d80e",
   "metadata": {},
   "outputs": [],
   "source": [
    "# convert the  Customer_Attrition from catgorical to numerical to find out correlation \n",
    "# create new freature of Customer_Attrition in numerical form\n",
    "\n",
    "data['Customer_Attrition_to_num']=data['Customer_Attrition'].map({'Yes':1,'No':0})# encoding"
   ]
  },
  {
   "cell_type": "code",
   "execution_count": 35,
   "id": "edce5664",
   "metadata": {
    "scrolled": true
   },
   "outputs": [
    {
     "data": {
      "text/plain": [
       "Customer_Attrition_to_num    1.000000\n",
       "OverageFee                   0.318608\n",
       "Calls_To_Customer_Care       0.175104\n",
       "DayMins                      0.029902\n",
       "MonthlyCharge               -0.040678\n",
       "RoamMins                    -0.047010\n",
       "Weeks                       -0.102481\n",
       "Customer_ID                 -0.145306\n",
       "Contract_Renewal            -0.149758\n",
       "index                       -0.151607\n",
       "Data_Usage                  -0.232417\n",
       "DayCalls                    -0.250403\n",
       "Name: Customer_Attrition_to_num, dtype: float64"
      ]
     },
     "execution_count": 35,
     "metadata": {},
     "output_type": "execute_result"
    }
   ],
   "source": [
    "# Print correlation between all features and target variable with sorted\n",
    "data.corr()['Customer_Attrition_to_num'].sort_values(ascending=False)"
   ]
  },
  {
   "cell_type": "markdown",
   "id": "3dfcf91e",
   "metadata": {},
   "source": [
    "## observation\n",
    "\n",
    "> OverageFee feature have the highest correlation with customer attrition"
   ]
  },
  {
   "cell_type": "markdown",
   "id": "127844c0",
   "metadata": {},
   "source": [
    "## visualization "
   ]
  },
  {
   "cell_type": "code",
   "execution_count": 36,
   "id": "18cc3906",
   "metadata": {},
   "outputs": [
    {
     "data": {
      "text/plain": [
       "<AxesSubplot:>"
      ]
     },
     "execution_count": 36,
     "metadata": {},
     "output_type": "execute_result"
    },
    {
     "data": {
      "image/png": "[encoded data removed]",
      "text/plain": [
       "<Figure size 1500x1000 with 2 Axes>"
      ]
     },
     "metadata": {},
     "output_type": "display_data"
    }
   ],
   "source": [
    "# Plot heatmap using Seaborn to visualize correlation.\n",
    "plt.figure(figsize=(15,10))\n",
    "sns.heatmap(data.corr(), annot = True)"
   ]
  },
  {
   "cell_type": "code",
   "execution_count": 37,
   "id": "d6356cde",
   "metadata": {},
   "outputs": [
    {
     "data": {
      "text/plain": [
       "<AxesSubplot:>"
      ]
     },
     "execution_count": 37,
     "metadata": {},
     "output_type": "execute_result"
    },
    {
     "data": {
      "image/png": "[encoded data removed]",
      "text/plain": [
       "<Figure size 640x480 with 1 Axes>"
      ]
     },
     "metadata": {},
     "output_type": "display_data"
    }
   ],
   "source": [
    "# Plot barplot using  to visualize  postive and negative correlation.\n",
    "data.corr()['Customer_Attrition_to_num'].sort_values(ascending = False).plot(kind='bar')"
   ]
  },
  {
   "cell_type": "markdown",
   "id": "1a705f11",
   "metadata": {},
   "source": [
    "## observation \n",
    "> some feature are postive correlated and some are negative correlated\n",
    "\n",
    "> OverageFee feature have the highest correlation with customer attrition\n"
   ]
  },
  {
   "cell_type": "code",
   "execution_count": null,
   "id": "85bf488c",
   "metadata": {},
   "outputs": [],
   "source": []
  },
  {
   "cell_type": "code",
   "execution_count": null,
   "id": "2ae6c0c6",
   "metadata": {},
   "outputs": [],
   "source": []
  },
  {
   "cell_type": "markdown",
   "id": "cd08b869",
   "metadata": {},
   "source": [
    "###  5.Is there a difference in data usage between customers who have a data plan and those who do not?\n"
   ]
  },
  {
   "cell_type": "code",
   "execution_count": 38,
   "id": "cb4c0827",
   "metadata": {
    "scrolled": true
   },
   "outputs": [
    {
     "data": {
      "text/plain": [
       "0.0    18\n",
       "Name: Data_Usage, dtype: int64"
      ]
     },
     "execution_count": 38,
     "metadata": {},
     "output_type": "execute_result"
    }
   ],
   "source": [
    "data[data['Data_Plan']=='No']['Data_Usage'].value_counts()"
   ]
  },
  {
   "cell_type": "code",
   "execution_count": 39,
   "id": "4bf68ac3",
   "metadata": {},
   "outputs": [
    {
     "data": {
      "text/plain": [
       "2.4    10\n",
       "2.2    10\n",
       "2.1    10\n",
       "2.7     9\n",
       "2.6     8\n",
       "2.3     7\n",
       "2.5     7\n",
       "1.8     5\n",
       "1.7     5\n",
       "3.5     4\n",
       "1.9     4\n",
       "1.6     4\n",
       "2.9     4\n",
       "3.1     3\n",
       "2.8     3\n",
       "2.0     3\n",
       "3.3     2\n",
       "1.4     2\n",
       "1.5     2\n",
       "3.2     2\n",
       "4.1     1\n",
       "3.7     1\n",
       "3.8     1\n",
       "4.2     1\n",
       "1.2     1\n",
       "1.1     1\n",
       "3.0     1\n",
       "Name: Data_Usage, dtype: int64"
      ]
     },
     "execution_count": 39,
     "metadata": {},
     "output_type": "execute_result"
    }
   ],
   "source": [
    "data[data['Data_Plan']=='Yes']['Data_Usage'].value_counts()"
   ]
  },
  {
   "cell_type": "markdown",
   "id": "54b3a4d4",
   "metadata": {},
   "source": [
    "## observation\n",
    "\n",
    "> customers who do not  have  a data plan ,data_usage is zero(0.0) \n",
    "\n",
    "> customers who  have a data plan ,data_usage from 1 to 4.1\n",
    "\n",
    "> yes ,there is a difference in data usage between customers who have a data plan and those who do not"
   ]
  },
  {
   "cell_type": "markdown",
   "id": "d0b4b76a",
   "metadata": {},
   "source": [
    "## visualization"
   ]
  },
  {
   "cell_type": "code",
   "execution_count": 40,
   "id": "05a2f90c",
   "metadata": {},
   "outputs": [
    {
     "data": {
      "application/vnd.plotly.v1+json": {
       "config": {
        "plotlyServerURL": "https://plot.ly"
       },
       "data": [
        {
         "alignmentgroup": "True",
         "bingroup": "x",
         "histfunc": "sum",
         "hovertemplate": "Data_Plan=%{x}<br>sum of Data_Usage=%{y}<extra></extra>",
         "legendgroup": "Yes",
         "marker": {
          "color": "#1F77B4",
          "pattern": {
           "shape": ""
          }
         },
         "name": "Yes",
         "offsetgroup": "Yes",
         "orientation": "v",
         "showlegend": true,
         "type": "histogram",
         "x": [
          "Yes",
          "Yes",
          "Yes",
          "Yes",
          "Yes",
          "Yes",
          "Yes",
          "Yes",
          "Yes",
          "Yes",
          "Yes",
          "Yes",
          "Yes",
          "Yes",
          "Yes",
          "Yes",
          "Yes",
          "Yes",
          "Yes",
          "Yes",
          "Yes",
          "Yes",
          "Yes",
          "Yes",
          "Yes",
          "Yes",
          "Yes",
          "Yes",
          "Yes",
          "Yes",
          "Yes",
          "Yes",
          "Yes",
          "Yes",
          "Yes",
          "Yes",
          "Yes",
          "Yes",
          "Yes",
          "Yes",
          "Yes",
          "Yes",
          "Yes",
          "Yes",
          "Yes",
          "Yes",
          "Yes",
          "Yes",
          "Yes",
          "Yes",
          "Yes",
          "Yes",
          "Yes",
          "Yes",
          "Yes",
          "Yes",
          "Yes",
          "Yes",
          "Yes",
          "Yes",
          "Yes",
          "Yes",
          "Yes",
          "Yes",
          "Yes",
          "Yes",
          "Yes",
          "Yes",
          "Yes",
          "Yes",
          "Yes",
          "Yes",
          "Yes",
          "Yes",
          "Yes",
          "Yes",
          "Yes",
          "Yes",
          "Yes",
          "Yes",
          "Yes",
          "Yes",
          "Yes",
          "Yes",
          "Yes",
          "Yes",
          "Yes",
          "Yes",
          "Yes",
          "Yes",
          "Yes",
          "Yes",
          "Yes",
          "Yes",
          "Yes",
          "Yes",
          "Yes",
          "Yes",
          "Yes",
          "Yes",
          "Yes",
          "Yes",
          "Yes",
          "Yes",
          "Yes",
          "Yes",
          "Yes",
          "Yes",
          "Yes",
          "Yes",
          "Yes"
         ],
         "xaxis": "x",
         "y": [
          2.3,
          4.1,
          2.6,
          3.8,
          2.7,
          3.5,
          2.1,
          4.2,
          1.8,
          2.3,
          3.1,
          2.5,
          2,
          3.7,
          1.7,
          3.5,
          2.6,
          2.2,
          2.9,
          2.2,
          3.1,
          1.6,
          2.7,
          2.6,
          2.5,
          2.3,
          2.9,
          2.6,
          3.1,
          2.4,
          2.2,
          2.5,
          2.8,
          2.2,
          2.1,
          3.5,
          1.6,
          2.4,
          2.7,
          2.9,
          2.1,
          3.3,
          2.4,
          2.9,
          2.5,
          1.2,
          2.2,
          2.8,
          2.7,
          1.1,
          2.2,
          1.9,
          2.7,
          2.6,
          1.4,
          2.2,
          1.9,
          2.4,
          1.7,
          2.1,
          2.3,
          2.6,
          2.3,
          2.1,
          1.6,
          2.6,
          1.4,
          2.5,
          1.9,
          1.8,
          2.2,
          2.3,
          2.2,
          2.3,
          2.7,
          2.2,
          1.9,
          2.1,
          1.5,
          2.1,
          1.5,
          2.4,
          3,
          1.8,
          2.6,
          2.1,
          2,
          2.5,
          1.7,
          2.4,
          2.1,
          2.4,
          3.2,
          3.5,
          1.8,
          2.4,
          2.7,
          1.7,
          1.8,
          2.7,
          1.6,
          2,
          2.5,
          3.3,
          2.1,
          3.2,
          2.4,
          2.7,
          1.7,
          2.8,
          2.4
         ],
         "yaxis": "y"
        },
        {
         "alignmentgroup": "True",
         "bingroup": "x",
         "histfunc": "sum",
         "hovertemplate": "Data_Plan=%{x}<br>sum of Data_Usage=%{y}<extra></extra>",
         "legendgroup": "No",
         "marker": {
          "color": "#FF7F0E",
          "pattern": {
           "shape": ""
          }
         },
         "name": "No",
         "offsetgroup": "No",
         "orientation": "v",
         "showlegend": true,
         "type": "histogram",
         "x": [
          "No",
          "No",
          "No",
          "No",
          "No",
          "No",
          "No",
          "No",
          "No",
          "No",
          "No",
          "No",
          "No",
          "No",
          "No",
          "No",
          "No",
          "No"
         ],
         "xaxis": "x",
         "y": [
          0,
          0,
          0,
          0,
          0,
          0,
          0,
          0,
          0,
          0,
          0,
          0,
          0,
          0,
          0,
          0,
          0,
          0
         ],
         "yaxis": "y"
        }
       ],
       "layout": {
        "barmode": "group",
        "font": {
         "family": "San Serif"
        },
        "legend": {
         "title": {
          "text": "Data_Plan"
         },
         "tracegroupgap": 0
        },
        "margin": {
         "t": 60
        },
        "template": {
         "data": {
          "scatter": [
           {
            "type": "scatter"
           }
          ]
         }
        },
        "title": {
         "font": {
          "size": 34
         },
         "text": " customer attrition and contract renewal"
        },
        "xaxis": {
         "anchor": "y",
         "categoryarray": [
          "Yes",
          "No"
         ],
         "categoryorder": "array",
         "domain": [
          0,
          1
         ],
         "showgrid": false,
         "tickmode": "array",
         "tickvals": [
          0,
          1
         ],
         "title": {
          "text": "Contract_Renewal"
         }
        },
        "yaxis": {
         "anchor": "x",
         "domain": [
          0,
          1
         ],
         "showgrid": false,
         "title": {
          "text": "Count"
         }
        }
       }
      },
      "text/html": [
       "<div>                            <div id=\"e14287a9-f73b-4d63-a990-99e3c875a7cf\" class=\"plotly-graph-div\" style=\"height:525px; width:100%;\"></div>            <script type=\"text/javascript\">                require([\"plotly\"], function(Plotly) {                    window.PLOTLYENV=window.PLOTLYENV || {};                                    if (document.getElementById(\"e14287a9-f73b-4d63-a990-99e3c875a7cf\")) {                    Plotly.newPlot(                        \"e14287a9-f73b-4d63-a990-99e3c875a7cf\",                        [{\"alignmentgroup\":\"True\",\"bingroup\":\"x\",\"histfunc\":\"sum\",\"hovertemplate\":\"Data_Plan=%{x}<br>sum of Data_Usage=%{y}<extra></extra>\",\"legendgroup\":\"Yes\",\"marker\":{\"color\":\"#1F77B4\",\"pattern\":{\"shape\":\"\"}},\"name\":\"Yes\",\"offsetgroup\":\"Yes\",\"orientation\":\"v\",\"showlegend\":true,\"x\":[\"Yes\",\"Yes\",\"Yes\",\"Yes\",\"Yes\",\"Yes\",\"Yes\",\"Yes\",\"Yes\",\"Yes\",\"Yes\",\"Yes\",\"Yes\",\"Yes\",\"Yes\",\"Yes\",\"Yes\",\"Yes\",\"Yes\",\"Yes\",\"Yes\",\"Yes\",\"Yes\",\"Yes\",\"Yes\",\"Yes\",\"Yes\",\"Yes\",\"Yes\",\"Yes\",\"Yes\",\"Yes\",\"Yes\",\"Yes\",\"Yes\",\"Yes\",\"Yes\",\"Yes\",\"Yes\",\"Yes\",\"Yes\",\"Yes\",\"Yes\",\"Yes\",\"Yes\",\"Yes\",\"Yes\",\"Yes\",\"Yes\",\"Yes\",\"Yes\",\"Yes\",\"Yes\",\"Yes\",\"Yes\",\"Yes\",\"Yes\",\"Yes\",\"Yes\",\"Yes\",\"Yes\",\"Yes\",\"Yes\",\"Yes\",\"Yes\",\"Yes\",\"Yes\",\"Yes\",\"Yes\",\"Yes\",\"Yes\",\"Yes\",\"Yes\",\"Yes\",\"Yes\",\"Yes\",\"Yes\",\"Yes\",\"Yes\",\"Yes\",\"Yes\",\"Yes\",\"Yes\",\"Yes\",\"Yes\",\"Yes\",\"Yes\",\"Yes\",\"Yes\",\"Yes\",\"Yes\",\"Yes\",\"Yes\",\"Yes\",\"Yes\",\"Yes\",\"Yes\",\"Yes\",\"Yes\",\"Yes\",\"Yes\",\"Yes\",\"Yes\",\"Yes\",\"Yes\",\"Yes\",\"Yes\",\"Yes\",\"Yes\",\"Yes\",\"Yes\"],\"xaxis\":\"x\",\"y\":[2.3,4.1,2.6,3.8,2.7,3.5,2.1,4.2,1.8,2.3,3.1,2.5,2.0,3.7,1.7,3.5,2.6,2.2,2.9,2.2,3.1,1.6,2.7,2.6,2.5,2.3,2.9,2.6,3.1,2.4,2.2,2.5,2.8,2.2,2.1,3.5,1.6,2.4,2.7,2.9,2.1,3.3,2.4,2.9,2.5,1.2,2.2,2.8,2.7,1.1,2.2,1.9,2.7,2.6,1.4,2.2,1.9,2.4,1.7,2.1,2.3,2.6,2.3,2.1,1.6,2.6,1.4,2.5,1.9,1.8,2.2,2.3,2.2,2.3,2.7,2.2,1.9,2.1,1.5,2.1,1.5,2.4,3.0,1.8,2.6,2.1,2.0,2.5,1.7,2.4,2.1,2.4,3.2,3.5,1.8,2.4,2.7,1.7,1.8,2.7,1.6,2.0,2.5,3.3,2.1,3.2,2.4,2.7,1.7,2.8,2.4],\"yaxis\":\"y\",\"type\":\"histogram\"},{\"alignmentgroup\":\"True\",\"bingroup\":\"x\",\"histfunc\":\"sum\",\"hovertemplate\":\"Data_Plan=%{x}<br>sum of Data_Usage=%{y}<extra></extra>\",\"legendgroup\":\"No\",\"marker\":{\"color\":\"#FF7F0E\",\"pattern\":{\"shape\":\"\"}},\"name\":\"No\",\"offsetgroup\":\"No\",\"orientation\":\"v\",\"showlegend\":true,\"x\":[\"No\",\"No\",\"No\",\"No\",\"No\",\"No\",\"No\",\"No\",\"No\",\"No\",\"No\",\"No\",\"No\",\"No\",\"No\",\"No\",\"No\",\"No\"],\"xaxis\":\"x\",\"y\":[0.0,0.0,0.0,0.0,0.0,0.0,0.0,0.0,0.0,0.0,0.0,0.0,0.0,0.0,0.0,0.0,0.0,0.0],\"yaxis\":\"y\",\"type\":\"histogram\"}],                        {\"template\":{\"data\":{\"scatter\":[{\"type\":\"scatter\"}]}},\"xaxis\":{\"anchor\":\"y\",\"domain\":[0.0,1.0],\"title\":{\"text\":\"Contract_Renewal\"},\"categoryorder\":\"array\",\"categoryarray\":[\"Yes\",\"No\"],\"tickmode\":\"array\",\"tickvals\":[0,1],\"showgrid\":false},\"yaxis\":{\"anchor\":\"x\",\"domain\":[0.0,1.0],\"title\":{\"text\":\"Count\"},\"showgrid\":false},\"legend\":{\"title\":{\"text\":\"Data_Plan\"},\"tracegroupgap\":0},\"margin\":{\"t\":60},\"barmode\":\"group\",\"font\":{\"family\":\"San Serif\"},\"title\":{\"text\":\" customer attrition and contract renewal\",\"font\":{\"size\":34}}},                        {\"responsive\": true}                    ).then(function(){\n",
       "                            \n",
       "var gd = document.getElementById('e14287a9-f73b-4d63-a990-99e3c875a7cf');\n",
       "var x = new MutationObserver(function (mutations, observer) {{\n",
       "        var display = window.getComputedStyle(gd).display;\n",
       "        if (!display || display === 'none') {{\n",
       "            console.log([gd, 'removed!']);\n",
       "            Plotly.purge(gd);\n",
       "            observer.disconnect();\n",
       "        }}\n",
       "}});\n",
       "\n",
       "// Listen for the removal of the full notebook cells\n",
       "var notebookContainer = gd.closest('#notebook-container');\n",
       "if (notebookContainer) {{\n",
       "    x.observe(notebookContainer, {childList: true});\n",
       "}}\n",
       "\n",
       "// Listen for the clearing of the current output cell\n",
       "var outputEl = gd.closest('.output');\n",
       "if (outputEl) {{\n",
       "    x.observe(outputEl, {childList: true});\n",
       "}}\n",
       "\n",
       "                        })                };                });            </script>        </div>"
      ]
     },
     "metadata": {},
     "output_type": "display_data"
    }
   ],
   "source": [
    "# create histogram plot\n",
    "fig = px.histogram(data, x=\"Data_Plan\", y='Data_Usage', color=\"Data_Plan\")\n",
    "#fig.update_coloraxes(showscale=False)\n",
    "fig.update_layout(title=\" customer attrition and contract renewal\", \n",
    "                  font_family=\"San Serif\",titlefont={'size': 34},\n",
    "                  barmode='group',\n",
    "                  xaxis=dict(title='Contract_Renewal',tickmode='array',tickvals=[0, 1]),\n",
    "                  yaxis=dict(title='Count'))\n",
    "\n",
    "\n",
    "\n",
    "\n",
    "fig.update_xaxes(showgrid=False)\n",
    "fig.update_yaxes(showgrid=False)\n",
    "\n",
    "fig.show()"
   ]
  },
  {
   "cell_type": "markdown",
   "id": "a85054e3",
   "metadata": {},
   "source": [
    "### observation:\n",
    "\n",
    "yes ,there is a difference in data usage between customers who have a data plan and those who do not"
   ]
  },
  {
   "cell_type": "code",
   "execution_count": null,
   "id": "57991a8b",
   "metadata": {},
   "outputs": [],
   "source": []
  },
  {
   "cell_type": "code",
   "execution_count": null,
   "id": "536d3f3f",
   "metadata": {},
   "outputs": [],
   "source": []
  },
  {
   "cell_type": "markdown",
   "id": "99663e61",
   "metadata": {},
   "source": [
    "### 6.What is the total revenue from customers who have a data plan and used greater than 3 GB of data"
   ]
  },
  {
   "cell_type": "code",
   "execution_count": 41,
   "id": "da93181f",
   "metadata": {},
   "outputs": [],
   "source": [
    "#MonthlyCharge and OverageFee are added to get total revenue and create new feature  revenue\n",
    "data['revenue']=data['MonthlyCharge']+data['OverageFee']\n"
   ]
  },
  {
   "cell_type": "code",
   "execution_count": 42,
   "id": "c7d686f8",
   "metadata": {
    "scrolled": true
   },
   "outputs": [
    {
     "name": "stdout",
     "output_type": "stream",
     "text": [
      "the total revenue from customers who have a data plan and used greater than 3 GB of data : 1131.8\n"
     ]
    }
   ],
   "source": [
    "revenue =data[(data['Data_Usage']>3) & (data['Data_Plan'] =='Yes') ].revenue.sum()\n",
    "\n",
    "print(f'the total revenue from customers who have a data plan and used greater than 3 GB of data : {revenue}')"
   ]
  },
  {
   "cell_type": "markdown",
   "id": "bb6255db",
   "metadata": {},
   "source": [
    "\n",
    "### obsever that customers who do not  have a data plan  ,Data_Usage is zero ,so result is same  even not write condition of (data['Data_Plan'] =='Yes') "
   ]
  },
  {
   "cell_type": "code",
   "execution_count": null,
   "id": "82b76259",
   "metadata": {},
   "outputs": [],
   "source": []
  },
  {
   "cell_type": "code",
   "execution_count": null,
   "id": "fc537d3d",
   "metadata": {},
   "outputs": [],
   "source": []
  },
  {
   "cell_type": "markdown",
   "id": "1c304973",
   "metadata": {},
   "source": [
    "### 7.What % of total revenue comes from customers who do not have a data plan?"
   ]
  },
  {
   "cell_type": "code",
   "execution_count": 43,
   "id": "9bdafe46",
   "metadata": {},
   "outputs": [
    {
     "name": "stdout",
     "output_type": "stream",
     "text": [
      "% of total revenue comes from customers who do not have a data plan : 11.47\n"
     ]
    }
   ],
   "source": [
    "\n",
    "total_revenue=round(data[data['Data_Plan']=='No'].revenue.sum()/data['revenue'].sum()*100,2)\n",
    "print(f'% of total revenue comes from customers who do not have a data plan : {total_revenue}')"
   ]
  },
  {
   "cell_type": "markdown",
   "id": "f28a83b4",
   "metadata": {},
   "source": [
    "### visualization"
   ]
  },
  {
   "cell_type": "code",
   "execution_count": 44,
   "id": "19b804e8",
   "metadata": {},
   "outputs": [
    {
     "data": {
      "application/vnd.plotly.v1+json": {
       "config": {
        "plotlyServerURL": "https://plot.ly"
       },
       "data": [
        {
         "domain": {
          "x": [
           0,
           1
          ],
          "y": [
           0,
           1
          ]
         },
         "hovertemplate": "label=%{label}<br>value=%{value}<extra></extra>",
         "labels": [
          "Data_plan_Yes",
          "Data_plan_No"
         ],
         "legendgroup": "",
         "name": "",
         "showlegend": true,
         "type": "pie",
         "values": [
          7995.55,
          1036.25
         ]
        }
       ],
       "layout": {
        "legend": {
         "tracegroupgap": 0
        },
        "template": {
         "data": {
          "scatter": [
           {
            "type": "scatter"
           }
          ]
         }
        },
        "title": {
         "text": "%  total revenue from customers"
        }
       }
      },
      "text/html": [
       "<div>                            <div id=\"2bcc00a6-6bf6-4156-8525-e91e159cd7d2\" class=\"plotly-graph-div\" style=\"height:525px; width:100%;\"></div>            <script type=\"text/javascript\">                require([\"plotly\"], function(Plotly) {                    window.PLOTLYENV=window.PLOTLYENV || {};                                    if (document.getElementById(\"2bcc00a6-6bf6-4156-8525-e91e159cd7d2\")) {                    Plotly.newPlot(                        \"2bcc00a6-6bf6-4156-8525-e91e159cd7d2\",                        [{\"domain\":{\"x\":[0.0,1.0],\"y\":[0.0,1.0]},\"hovertemplate\":\"label=%{label}<br>value=%{value}<extra></extra>\",\"labels\":[\"Data_plan_Yes\",\"Data_plan_No\"],\"legendgroup\":\"\",\"name\":\"\",\"showlegend\":true,\"values\":[7995.55,1036.25],\"type\":\"pie\"}],                        {\"template\":{\"data\":{\"scatter\":[{\"type\":\"scatter\"}]}},\"legend\":{\"tracegroupgap\":0},\"title\":{\"text\":\"%  total revenue from customers\"}},                        {\"responsive\": true}                    ).then(function(){\n",
       "                            \n",
       "var gd = document.getElementById('2bcc00a6-6bf6-4156-8525-e91e159cd7d2');\n",
       "var x = new MutationObserver(function (mutations, observer) {{\n",
       "        var display = window.getComputedStyle(gd).display;\n",
       "        if (!display || display === 'none') {{\n",
       "            console.log([gd, 'removed!']);\n",
       "            Plotly.purge(gd);\n",
       "            observer.disconnect();\n",
       "        }}\n",
       "}});\n",
       "\n",
       "// Listen for the removal of the full notebook cells\n",
       "var notebookContainer = gd.closest('#notebook-container');\n",
       "if (notebookContainer) {{\n",
       "    x.observe(notebookContainer, {childList: true});\n",
       "}}\n",
       "\n",
       "// Listen for the clearing of the current output cell\n",
       "var outputEl = gd.closest('.output');\n",
       "if (outputEl) {{\n",
       "    x.observe(outputEl, {childList: true});\n",
       "}}\n",
       "\n",
       "                        })                };                });            </script>        </div>"
      ]
     },
     "metadata": {},
     "output_type": "display_data"
    }
   ],
   "source": [
    "yes=data.loc[data['Data_Plan']=='Yes'].revenue.sum()\n",
    "no=data.loc[data['Data_Plan']=='No'].revenue.sum()\n",
    "combine=[yes,no]\n",
    "names = ['Data_plan_Yes', 'Data_plan_No',]\n",
    "\n",
    "fig = px.pie(values=combine, names=names,title=\"%  total revenue from customers\")\n",
    "fig.show()"
   ]
  },
  {
   "cell_type": "markdown",
   "id": "93f1e9ab",
   "metadata": {},
   "source": [
    "# observation\n",
    "\n",
    "> % of total revenue comes from customers who do not have a data plan : 11.2%\n",
    "\n",
    "> % of total revenue comes from customers who  have a data plan : 88.8%"
   ]
  },
  {
   "cell_type": "code",
   "execution_count": null,
   "id": "1bb60070",
   "metadata": {},
   "outputs": [],
   "source": []
  },
  {
   "cell_type": "code",
   "execution_count": null,
   "id": "5d199171",
   "metadata": {},
   "outputs": [],
   "source": []
  },
  {
   "cell_type": "markdown",
   "id": "d862831a",
   "metadata": {},
   "source": [
    "### 8.What is the ratio of average total revenue between customers who have a data plan and those who do not?\n"
   ]
  },
  {
   "cell_type": "code",
   "execution_count": 45,
   "id": "4f2b6358",
   "metadata": {},
   "outputs": [
    {
     "name": "stdout",
     "output_type": "stream",
     "text": [
      "the ratio of average total revenue between customers who have a data plan and those who do no : 36.0:29.0\n"
     ]
    }
   ],
   "source": [
    "# import math librarie\n",
    "import math \n",
    "\n",
    "#calculate average total revenue between customers who have a data plan and those who do not\n",
    "with_data_plan = data.loc[data['Data_Plan']=='Yes'].revenue.mean()\n",
    "without_data_plan = data.loc[data['Data_Plan']=='No'].revenue.mean()\n",
    "\n",
    "\n",
    "# find out ration between them\n",
    "a=round(with_data_plan)\n",
    "b=round(without_data_plan)\n",
    "h=math.gcd(a,b)\n",
    "\n",
    "ratio = str(a/h) + \":\" + str(b/h) \n",
    "\n",
    "print(f'the ratio of average total revenue between customers who have a data plan and those who do no : { ratio}')\n"
   ]
  },
  {
   "cell_type": "code",
   "execution_count": null,
   "id": "fff95143",
   "metadata": {},
   "outputs": [],
   "source": []
  },
  {
   "cell_type": "code",
   "execution_count": null,
   "id": "77c883c7",
   "metadata": {},
   "outputs": [],
   "source": []
  },
  {
   "cell_type": "markdown",
   "id": "e1d8e215",
   "metadata": {},
   "source": [
    "### 9.Is there a difference in contract renewal rates between customers who have a data plan and those who do not?\n"
   ]
  },
  {
   "cell_type": "code",
   "execution_count": 46,
   "id": "de3436c3",
   "metadata": {},
   "outputs": [
    {
     "name": "stdout",
     "output_type": "stream",
     "text": [
      "Chi-Squared Test:\n",
      "p-value = 0.0000\n"
     ]
    }
   ],
   "source": [
    "# Create a contingency table of the data\n",
    "contingency_table = pd.crosstab(data['Data_Plan'], data['Contract_Renewal'])\n",
    "\n",
    "# Perform the chi-squared test\n",
    "_, p_value, _, _ = chi2_contingency(contingency_table)\n",
    "\n",
    "# Print the results\n",
    "print('Chi-Squared Test:')\n",
    "\n",
    "print(f'p-value = {p_value:.4f}')\n"
   ]
  },
  {
   "cell_type": "markdown",
   "id": "5adc57e2",
   "metadata": {},
   "source": [
    "### observation :\n",
    "> the p-value of the chisq test is :0.2526\n",
    "  \n",
    "> the P-value came less than 0.05. Hence H0(null hypothesis) will be rejected. Which means the variables are correlated with each other.\n",
    "\n",
    "> yes,there a difference in contract renewal rates between customers who have a data plan and those who do not"
   ]
  },
  {
   "cell_type": "code",
   "execution_count": 47,
   "id": "46a91a5d",
   "metadata": {},
   "outputs": [
    {
     "data": {
      "application/vnd.plotly.v1+json": {
       "config": {
        "plotlyServerURL": "https://plot.ly"
       },
       "data": [
        {
         "alignmentgroup": "True",
         "bingroup": "x",
         "hovertemplate": "Data_Plan=Yes<br>Contract_Renewal=%{x}<br>count=%{y}<extra></extra>",
         "legendgroup": "Yes",
         "marker": {
          "color": "#1F77B4",
          "pattern": {
           "shape": ""
          }
         },
         "name": "Yes",
         "offsetgroup": "Yes",
         "orientation": "v",
         "showlegend": true,
         "type": "histogram",
         "x": [
          1,
          0,
          1,
          1,
          1,
          1,
          0,
          1,
          1,
          1,
          1,
          1,
          1,
          1,
          1,
          1,
          1,
          1,
          1,
          1,
          1,
          1,
          1,
          1,
          1,
          1,
          1,
          1,
          1,
          1,
          1,
          1,
          1,
          1,
          1,
          1,
          1,
          1,
          1,
          1,
          1,
          1,
          1,
          1,
          1,
          1,
          1,
          1,
          1,
          1,
          1,
          1,
          1,
          1,
          1,
          1,
          1,
          1,
          1,
          1,
          1,
          1,
          1,
          1,
          1,
          1,
          1,
          1,
          1,
          1,
          1,
          1,
          1,
          1,
          1,
          1,
          1,
          1,
          1,
          1,
          1,
          1,
          1,
          1,
          1,
          1,
          1,
          1,
          1,
          1,
          1,
          1,
          1,
          1,
          1,
          1,
          1,
          1,
          1,
          1,
          1,
          1,
          1,
          1,
          1,
          1,
          1,
          1,
          1,
          1,
          1
         ],
         "xaxis": "x",
         "yaxis": "y"
        },
        {
         "alignmentgroup": "True",
         "bingroup": "x",
         "hovertemplate": "Data_Plan=No<br>Contract_Renewal=%{x}<br>count=%{y}<extra></extra>",
         "legendgroup": "No",
         "marker": {
          "color": "#FF7F0E",
          "pattern": {
           "shape": ""
          }
         },
         "name": "No",
         "offsetgroup": "No",
         "orientation": "v",
         "showlegend": true,
         "type": "histogram",
         "x": [
          1,
          1,
          0,
          0,
          1,
          1,
          1,
          0,
          1,
          0,
          1,
          1,
          0,
          1,
          0,
          0,
          0,
          1
         ],
         "xaxis": "x",
         "yaxis": "y"
        }
       ],
       "layout": {
        "barmode": "group",
        "font": {
         "family": "San Serif"
        },
        "legend": {
         "title": {
          "text": "Data_Plan"
         },
         "tracegroupgap": 0
        },
        "margin": {
         "t": 60
        },
        "template": {
         "data": {
          "scatter": [
           {
            "type": "scatter"
           }
          ]
         }
        },
        "title": {
         "font": {
          "size": 34
         },
         "text": " Contract_Renewal and Data_Plan"
        },
        "xaxis": {
         "anchor": "y",
         "domain": [
          0,
          1
         ],
         "showgrid": false,
         "tickmode": "array",
         "title": {
          "text": "Contract_Renewal"
         }
        },
        "yaxis": {
         "anchor": "x",
         "domain": [
          0,
          1
         ],
         "showgrid": false,
         "title": {
          "text": "Count"
         }
        }
       }
      },
      "text/html": [
       "<div>                            <div id=\"e1f31c81-ea79-42c3-ba23-5648c4f0baea\" class=\"plotly-graph-div\" style=\"height:525px; width:100%;\"></div>            <script type=\"text/javascript\">                require([\"plotly\"], function(Plotly) {                    window.PLOTLYENV=window.PLOTLYENV || {};                                    if (document.getElementById(\"e1f31c81-ea79-42c3-ba23-5648c4f0baea\")) {                    Plotly.newPlot(                        \"e1f31c81-ea79-42c3-ba23-5648c4f0baea\",                        [{\"alignmentgroup\":\"True\",\"bingroup\":\"x\",\"hovertemplate\":\"Data_Plan=Yes<br>Contract_Renewal=%{x}<br>count=%{y}<extra></extra>\",\"legendgroup\":\"Yes\",\"marker\":{\"color\":\"#1F77B4\",\"pattern\":{\"shape\":\"\"}},\"name\":\"Yes\",\"offsetgroup\":\"Yes\",\"orientation\":\"v\",\"showlegend\":true,\"x\":[1,0,1,1,1,1,0,1,1,1,1,1,1,1,1,1,1,1,1,1,1,1,1,1,1,1,1,1,1,1,1,1,1,1,1,1,1,1,1,1,1,1,1,1,1,1,1,1,1,1,1,1,1,1,1,1,1,1,1,1,1,1,1,1,1,1,1,1,1,1,1,1,1,1,1,1,1,1,1,1,1,1,1,1,1,1,1,1,1,1,1,1,1,1,1,1,1,1,1,1,1,1,1,1,1,1,1,1,1,1,1],\"xaxis\":\"x\",\"yaxis\":\"y\",\"type\":\"histogram\"},{\"alignmentgroup\":\"True\",\"bingroup\":\"x\",\"hovertemplate\":\"Data_Plan=No<br>Contract_Renewal=%{x}<br>count=%{y}<extra></extra>\",\"legendgroup\":\"No\",\"marker\":{\"color\":\"#FF7F0E\",\"pattern\":{\"shape\":\"\"}},\"name\":\"No\",\"offsetgroup\":\"No\",\"orientation\":\"v\",\"showlegend\":true,\"x\":[1,1,0,0,1,1,1,0,1,0,1,1,0,1,0,0,0,1],\"xaxis\":\"x\",\"yaxis\":\"y\",\"type\":\"histogram\"}],                        {\"template\":{\"data\":{\"scatter\":[{\"type\":\"scatter\"}]}},\"xaxis\":{\"anchor\":\"y\",\"domain\":[0.0,1.0],\"title\":{\"text\":\"Contract_Renewal\"},\"tickmode\":\"array\",\"showgrid\":false},\"yaxis\":{\"anchor\":\"x\",\"domain\":[0.0,1.0],\"title\":{\"text\":\"Count\"},\"showgrid\":false},\"legend\":{\"title\":{\"text\":\"Data_Plan\"},\"tracegroupgap\":0},\"margin\":{\"t\":60},\"barmode\":\"group\",\"font\":{\"family\":\"San Serif\"},\"title\":{\"text\":\" Contract_Renewal and Data_Plan\",\"font\":{\"size\":34}}},                        {\"responsive\": true}                    ).then(function(){\n",
       "                            \n",
       "var gd = document.getElementById('e1f31c81-ea79-42c3-ba23-5648c4f0baea');\n",
       "var x = new MutationObserver(function (mutations, observer) {{\n",
       "        var display = window.getComputedStyle(gd).display;\n",
       "        if (!display || display === 'none') {{\n",
       "            console.log([gd, 'removed!']);\n",
       "            Plotly.purge(gd);\n",
       "            observer.disconnect();\n",
       "        }}\n",
       "}});\n",
       "\n",
       "// Listen for the removal of the full notebook cells\n",
       "var notebookContainer = gd.closest('#notebook-container');\n",
       "if (notebookContainer) {{\n",
       "    x.observe(notebookContainer, {childList: true});\n",
       "}}\n",
       "\n",
       "// Listen for the clearing of the current output cell\n",
       "var outputEl = gd.closest('.output');\n",
       "if (outputEl) {{\n",
       "    x.observe(outputEl, {childList: true});\n",
       "}}\n",
       "\n",
       "                        })                };                });            </script>        </div>"
      ]
     },
     "metadata": {},
     "output_type": "display_data"
    }
   ],
   "source": [
    "# create histogram plot\n",
    "fig = px.histogram(data, x=\"Contract_Renewal\", y=None, color=\"Data_Plan\")\n",
    "\n",
    "fig.update_layout(title=\" Contract_Renewal and Data_Plan\", \n",
    "                  font_family=\"San Serif\",titlefont={'size': 34},\n",
    "                  barmode='group',\n",
    "                  xaxis=dict(title='Contract_Renewal',tickmode='array'),\n",
    "                  yaxis=dict(title='Count'))\n",
    "\n",
    "\n",
    "\n",
    "\n",
    "fig.update_xaxes(showgrid=False)\n",
    "fig.update_yaxes(showgrid=False)\n",
    "\n",
    "fig.show()"
   ]
  },
  {
   "cell_type": "markdown",
   "id": "bb4ff514",
   "metadata": {},
   "source": [
    "### observation:\n",
    "\n",
    "> customers who have Contract_Renewal have more data_plane compare to  customers who do not  have Contract_Renewal \n",
    "\n",
    ">yes,there a difference in contract renewal rates between customers who have a data plan and those who do not"
   ]
  },
  {
   "cell_type": "code",
   "execution_count": null,
   "id": "3f7c6f58",
   "metadata": {},
   "outputs": [],
   "source": []
  },
  {
   "cell_type": "code",
   "execution_count": null,
   "id": "fa05663d",
   "metadata": {},
   "outputs": [],
   "source": []
  },
  {
   "cell_type": "markdown",
   "id": "2b103d89",
   "metadata": {},
   "source": [
    "### 10.What % of revenue comes from overage fees for customers with no data plan, customers using 1-3 GB of data and customers using greater than 3 GB of data?\n"
   ]
  },
  {
   "cell_type": "code",
   "execution_count": 48,
   "id": "e13bb997",
   "metadata": {
    "scrolled": true
   },
   "outputs": [
    {
     "name": "stdout",
     "output_type": "stream",
     "text": [
      "% of revenue comes from overage fees for customers with no data plan : 16.52 %\n"
     ]
    }
   ],
   "source": [
    "data[(data['Data_Plan']=='No')].OverageFee.sum()\n",
    "# % of revenue comes from overage fees for customers with no data plan\n",
    "\n",
    "witou_data_plane=round(data[data['Data_Plan']=='No'].OverageFee.sum()/data['OverageFee'].sum()*100,2)\n",
    "print(f'% of revenue comes from overage fees for customers with no data plan : {witou_data_plane} %')"
   ]
  },
  {
   "cell_type": "markdown",
   "id": "0f06d3f3",
   "metadata": {},
   "source": [
    "## visualization_1"
   ]
  },
  {
   "cell_type": "code",
   "execution_count": 49,
   "id": "405a1f25",
   "metadata": {},
   "outputs": [
    {
     "data": {
      "application/vnd.plotly.v1+json": {
       "config": {
        "plotlyServerURL": "https://plot.ly"
       },
       "data": [
        {
         "domain": {
          "x": [
           0,
           1
          ],
          "y": [
           0,
           1
          ]
         },
         "hovertemplate": "label=%{label}<br>value=%{value}<extra></extra>",
         "labels": [
          "Data_plan_Yes",
          "Data_plan_No"
         ],
         "legendgroup": "",
         "name": "",
         "showlegend": true,
         "type": "pie",
         "values": [
          1125.75,
          222.75
         ]
        }
       ],
       "layout": {
        "legend": {
         "tracegroupgap": 0
        },
        "template": {
         "data": {
          "scatter": [
           {
            "type": "scatter"
           }
          ]
         }
        },
        "title": {
         "text": "% Revenue From Overage_Fees for Customers with no Data_Plan"
        }
       }
      },
      "text/html": [
       "<div>                            <div id=\"b2144346-1f02-405b-9c21-2d5ac32b7c31\" class=\"plotly-graph-div\" style=\"height:525px; width:100%;\"></div>            <script type=\"text/javascript\">                require([\"plotly\"], function(Plotly) {                    window.PLOTLYENV=window.PLOTLYENV || {};                                    if (document.getElementById(\"b2144346-1f02-405b-9c21-2d5ac32b7c31\")) {                    Plotly.newPlot(                        \"b2144346-1f02-405b-9c21-2d5ac32b7c31\",                        [{\"domain\":{\"x\":[0.0,1.0],\"y\":[0.0,1.0]},\"hovertemplate\":\"label=%{label}<br>value=%{value}<extra></extra>\",\"labels\":[\"Data_plan_Yes\",\"Data_plan_No\"],\"legendgroup\":\"\",\"name\":\"\",\"showlegend\":true,\"values\":[1125.75,222.75],\"type\":\"pie\"}],                        {\"template\":{\"data\":{\"scatter\":[{\"type\":\"scatter\"}]}},\"legend\":{\"tracegroupgap\":0},\"title\":{\"text\":\"% Revenue From Overage_Fees for Customers with no Data_Plan\"}},                        {\"responsive\": true}                    ).then(function(){\n",
       "                            \n",
       "var gd = document.getElementById('b2144346-1f02-405b-9c21-2d5ac32b7c31');\n",
       "var x = new MutationObserver(function (mutations, observer) {{\n",
       "        var display = window.getComputedStyle(gd).display;\n",
       "        if (!display || display === 'none') {{\n",
       "            console.log([gd, 'removed!']);\n",
       "            Plotly.purge(gd);\n",
       "            observer.disconnect();\n",
       "        }}\n",
       "}});\n",
       "\n",
       "// Listen for the removal of the full notebook cells\n",
       "var notebookContainer = gd.closest('#notebook-container');\n",
       "if (notebookContainer) {{\n",
       "    x.observe(notebookContainer, {childList: true});\n",
       "}}\n",
       "\n",
       "// Listen for the clearing of the current output cell\n",
       "var outputEl = gd.closest('.output');\n",
       "if (outputEl) {{\n",
       "    x.observe(outputEl, {childList: true});\n",
       "}}\n",
       "\n",
       "                        })                };                });            </script>        </div>"
      ]
     },
     "metadata": {},
     "output_type": "display_data"
    }
   ],
   "source": [
    "d11=data.loc[data['Data_Plan']=='Yes'].OverageFee.sum()\n",
    "d12=data.loc[data['Data_Plan']=='No'].OverageFee.sum()\n",
    "values=[d11,d12]\n",
    "labels = ['Data_plan_Yes', 'Data_plan_No',]\n",
    "\n",
    "fig = px.pie(values=values, names=labels,title=\"% Revenue From Overage_Fees for Customers with no Data_Plan\")\n",
    "\n",
    "fig.show()"
   ]
  },
  {
   "cell_type": "code",
   "execution_count": 50,
   "id": "af641a67",
   "metadata": {},
   "outputs": [
    {
     "name": "stdout",
     "output_type": "stream",
     "text": [
      "% of revenue comes from overage fees for customers using 1-3 GB of data : 72.02 %\n"
     ]
    }
   ],
   "source": [
    "data[(data['Data_Usage']>=1) & (data['Data_Usage']<=3 )].OverageFee.sum()\n",
    "\n",
    " # % of revenue comes from overage fees for customers using 1-3 GB of data \n",
    "    \n",
    "between_1_3=round(data[(data['Data_Usage']>=1) & (data['Data_Usage']<=3 )].OverageFee.sum()/data['OverageFee'].sum()*100,2)\n",
    "\n",
    "print(f'% of revenue comes from overage fees for customers using 1-3 GB of data : {between_1_3} %')"
   ]
  },
  {
   "cell_type": "code",
   "execution_count": 51,
   "id": "598b03b7",
   "metadata": {},
   "outputs": [],
   "source": [
    "## visualization_2"
   ]
  },
  {
   "cell_type": "code",
   "execution_count": 52,
   "id": "ed3fca9b",
   "metadata": {},
   "outputs": [
    {
     "data": {
      "application/vnd.plotly.v1+json": {
       "config": {
        "plotlyServerURL": "https://plot.ly"
       },
       "data": [
        {
         "domain": {
          "x": [
           0,
           1
          ],
          "y": [
           0,
           1
          ]
         },
         "hovertemplate": "label=%{label}<br>value=%{value}<extra></extra>",
         "labels": [
          "Data_Usage_Between_1-3GB",
          "Remaing_Data_usage"
         ],
         "legendgroup": "",
         "name": "",
         "showlegend": true,
         "type": "pie",
         "values": [
          971.25,
          377.25
         ]
        }
       ],
       "layout": {
        "legend": {
         "tracegroupgap": 0
        },
        "template": {
         "data": {
          "scatter": [
           {
            "type": "scatter"
           }
          ]
         }
        },
        "title": {
         "text": "% revenue customers using 1-3 GB of data"
        }
       }
      },
      "text/html": [
       "<div>                            <div id=\"7c4a9876-fc41-4cda-b2fd-ed338ed64d01\" class=\"plotly-graph-div\" style=\"height:525px; width:100%;\"></div>            <script type=\"text/javascript\">                require([\"plotly\"], function(Plotly) {                    window.PLOTLYENV=window.PLOTLYENV || {};                                    if (document.getElementById(\"7c4a9876-fc41-4cda-b2fd-ed338ed64d01\")) {                    Plotly.newPlot(                        \"7c4a9876-fc41-4cda-b2fd-ed338ed64d01\",                        [{\"domain\":{\"x\":[0.0,1.0],\"y\":[0.0,1.0]},\"hovertemplate\":\"label=%{label}<br>value=%{value}<extra></extra>\",\"labels\":[\"Data_Usage_Between_1-3GB\",\"Remaing_Data_usage\"],\"legendgroup\":\"\",\"name\":\"\",\"showlegend\":true,\"values\":[971.25,377.25],\"type\":\"pie\"}],                        {\"template\":{\"data\":{\"scatter\":[{\"type\":\"scatter\"}]}},\"legend\":{\"tracegroupgap\":0},\"title\":{\"text\":\"% revenue customers using 1-3 GB of data\"}},                        {\"responsive\": true}                    ).then(function(){\n",
       "                            \n",
       "var gd = document.getElementById('7c4a9876-fc41-4cda-b2fd-ed338ed64d01');\n",
       "var x = new MutationObserver(function (mutations, observer) {{\n",
       "        var display = window.getComputedStyle(gd).display;\n",
       "        if (!display || display === 'none') {{\n",
       "            console.log([gd, 'removed!']);\n",
       "            Plotly.purge(gd);\n",
       "            observer.disconnect();\n",
       "        }}\n",
       "}});\n",
       "\n",
       "// Listen for the removal of the full notebook cells\n",
       "var notebookContainer = gd.closest('#notebook-container');\n",
       "if (notebookContainer) {{\n",
       "    x.observe(notebookContainer, {childList: true});\n",
       "}}\n",
       "\n",
       "// Listen for the clearing of the current output cell\n",
       "var outputEl = gd.closest('.output');\n",
       "if (outputEl) {{\n",
       "    x.observe(outputEl, {childList: true});\n",
       "}}\n",
       "\n",
       "                        })                };                });            </script>        </div>"
      ]
     },
     "metadata": {},
     "output_type": "display_data"
    }
   ],
   "source": [
    "d21=data[(data['Data_Usage']>=1) & (data['Data_Usage']<=3 )].OverageFee.sum()\n",
    "d22=data['OverageFee'].sum()-data[(data['Data_Usage']>=1) & (data['Data_Usage']<=3 )].OverageFee.sum()\n",
    "values2=[d21,d22]\n",
    "labels2 = ['Data_Usage_Between_1-3GB', 'Remaing_Data_usage',]\n",
    "\n",
    "fig = px.pie(values=values2, names=labels2,title=\"% revenue customers using 1-3 GB of data\")\n",
    "\n",
    "fig.show()"
   ]
  },
  {
   "cell_type": "code",
   "execution_count": 53,
   "id": "6dad9c36",
   "metadata": {},
   "outputs": [],
   "source": [
    "## visualization_3"
   ]
  },
  {
   "cell_type": "code",
   "execution_count": 54,
   "id": "2ad171de",
   "metadata": {},
   "outputs": [
    {
     "name": "stdout",
     "output_type": "stream",
     "text": [
      "% of revenue comes from overage fees for customers using greater than 3 GB of data: 11.46 %\n"
     ]
    }
   ],
   "source": [
    "data[(data['Data_Usage']>3 )].OverageFee.sum()\n",
    "\n",
    "# % of revenue comes from overage fees for customers using greater than 3 GB of data\n",
    "\n",
    "grater_3=round(data[(data['Data_Usage']>3 )].OverageFee.sum()/data['OverageFee'].sum()*100,2)\n",
    "\n",
    "print(f'% of revenue comes from overage fees for customers using greater than 3 GB of data: {grater_3} %')"
   ]
  },
  {
   "cell_type": "code",
   "execution_count": 55,
   "id": "c3a0927f",
   "metadata": {
    "scrolled": false
   },
   "outputs": [
    {
     "data": {
      "application/vnd.plotly.v1+json": {
       "config": {
        "plotlyServerURL": "https://plot.ly"
       },
       "data": [
        {
         "domain": {
          "x": [
           0,
           1
          ],
          "y": [
           0,
           1
          ]
         },
         "hovertemplate": "label=%{label}<br>value=%{value}<extra></extra>",
         "labels": [
          "Data_Usage_Greater_than_3GB",
          "remaing_Data_Usage"
         ],
         "legendgroup": "",
         "name": "",
         "showlegend": true,
         "type": "pie",
         "values": [
          154.5,
          1194
         ]
        }
       ],
       "layout": {
        "legend": {
         "tracegroupgap": 0
        },
        "template": {
         "data": {
          "scatter": [
           {
            "type": "scatter"
           }
          ]
         }
        },
        "title": {
         "text": "% revenue  customers using greater than 3 GB of data"
        }
       }
      },
      "text/html": [
       "<div>                            <div id=\"40e6061f-153c-4521-8c6b-0f2d204a9d75\" class=\"plotly-graph-div\" style=\"height:525px; width:100%;\"></div>            <script type=\"text/javascript\">                require([\"plotly\"], function(Plotly) {                    window.PLOTLYENV=window.PLOTLYENV || {};                                    if (document.getElementById(\"40e6061f-153c-4521-8c6b-0f2d204a9d75\")) {                    Plotly.newPlot(                        \"40e6061f-153c-4521-8c6b-0f2d204a9d75\",                        [{\"domain\":{\"x\":[0.0,1.0],\"y\":[0.0,1.0]},\"hovertemplate\":\"label=%{label}<br>value=%{value}<extra></extra>\",\"labels\":[\"Data_Usage_Greater_than_3GB\",\"remaing_Data_Usage\"],\"legendgroup\":\"\",\"name\":\"\",\"showlegend\":true,\"values\":[154.5,1194.0],\"type\":\"pie\"}],                        {\"template\":{\"data\":{\"scatter\":[{\"type\":\"scatter\"}]}},\"legend\":{\"tracegroupgap\":0},\"title\":{\"text\":\"% revenue  customers using greater than 3 GB of data\"}},                        {\"responsive\": true}                    ).then(function(){\n",
       "                            \n",
       "var gd = document.getElementById('40e6061f-153c-4521-8c6b-0f2d204a9d75');\n",
       "var x = new MutationObserver(function (mutations, observer) {{\n",
       "        var display = window.getComputedStyle(gd).display;\n",
       "        if (!display || display === 'none') {{\n",
       "            console.log([gd, 'removed!']);\n",
       "            Plotly.purge(gd);\n",
       "            observer.disconnect();\n",
       "        }}\n",
       "}});\n",
       "\n",
       "// Listen for the removal of the full notebook cells\n",
       "var notebookContainer = gd.closest('#notebook-container');\n",
       "if (notebookContainer) {{\n",
       "    x.observe(notebookContainer, {childList: true});\n",
       "}}\n",
       "\n",
       "// Listen for the clearing of the current output cell\n",
       "var outputEl = gd.closest('.output');\n",
       "if (outputEl) {{\n",
       "    x.observe(outputEl, {childList: true});\n",
       "}}\n",
       "\n",
       "                        })                };                });            </script>        </div>"
      ]
     },
     "metadata": {},
     "output_type": "display_data"
    }
   ],
   "source": [
    "d31=data[(data['Data_Usage']>3 )].OverageFee.sum()\n",
    "d32=data['OverageFee'].sum()-data[(data['Data_Usage']>3 )].OverageFee.sum()\n",
    "values3=[d31,d32]\n",
    "labels3 = ['Data_Usage_Greater_than_3GB', 'remaing_Data_Usage',]\n",
    "\n",
    "fig = px.pie(values=values3, names=labels3,title=\"% revenue  customers using greater than 3 GB of data\")\n",
    "\n",
    "fig.show()\n"
   ]
  },
  {
   "cell_type": "code",
   "execution_count": null,
   "id": "1ddaac27",
   "metadata": {},
   "outputs": [],
   "source": []
  },
  {
   "cell_type": "code",
   "execution_count": null,
   "id": "729673cd",
   "metadata": {},
   "outputs": [],
   "source": []
  },
  {
   "cell_type": "markdown",
   "id": "4705ab6e",
   "metadata": {},
   "source": [
    "### 11.Do customers with weeks more than 50 have a lower minute per call ratio or customers with weeks between 31 and 50 ?\n"
   ]
  },
  {
   "cell_type": "code",
   "execution_count": null,
   "id": "ffeb872c",
   "metadata": {},
   "outputs": [],
   "source": []
  },
  {
   "cell_type": "code",
   "execution_count": 56,
   "id": "8c21fda4",
   "metadata": {},
   "outputs": [],
   "source": [
    "# create new feature from MinPerCall and DayMins to get minute per call ratio\n",
    "#new feature is total_minPerCall\n",
    "\n",
    "total_minPerCall=data['MinPerCall']=data['DayMins']/data['DayCalls']"
   ]
  },
  {
   "cell_type": "code",
   "execution_count": 57,
   "id": "f1cebc39",
   "metadata": {
    "scrolled": true
   },
   "outputs": [
    {
     "name": "stdout",
     "output_type": "stream",
     "text": [
      "total customers :  60\n"
     ]
    }
   ],
   "source": [
    "# to get lower_minPerCall from total_minPerCall and customers with weeks between 31 and 50\n",
    "lower_minPerCall=data[((data['Weeks'] > 50) & (data['MinPerCall'] <1)) | ((data['Weeks'] >=31) & (data['Weeks'] <=50))]\n",
    "print('total customers : ',lower_minPerCall['Customer_ID'].count())"
   ]
  },
  {
   "cell_type": "markdown",
   "id": "6f6b15cf",
   "metadata": {},
   "source": [
    "### observation :\n",
    "yes,the total 60 customers who have weeks more than 50 have a lower minute per call ratio or customers with weeks between 31 and 50"
   ]
  },
  {
   "cell_type": "code",
   "execution_count": null,
   "id": "62adeb3d",
   "metadata": {},
   "outputs": [],
   "source": []
  },
  {
   "cell_type": "code",
   "execution_count": null,
   "id": "e8631afa",
   "metadata": {},
   "outputs": [],
   "source": []
  },
  {
   "cell_type": "markdown",
   "id": "649b59ff",
   "metadata": {},
   "source": [
    "### 12.What is the average overage fee for customers whose contracts are more than 30 weeks old and have a data plan and have used less than 1GB of data?\n"
   ]
  },
  {
   "cell_type": "code",
   "execution_count": 58,
   "id": "38578e33",
   "metadata": {},
   "outputs": [
    {
     "name": "stdout",
     "output_type": "stream",
     "text": [
      "avg fee customers whoes more than 30 weeks old and data plan and have used less than 1GB of data : nan\n"
     ]
    }
   ],
   "source": [
    "result=data[(data['Weeks'] > 30) & (data['Data_Usage'] <1) & (data['Data_Plan']=='Yes') ].OverageFee.mean()\n",
    "\n",
    "print(f'avg fee customers whoes more than 30 weeks old and data plan and have used less than 1GB of data : {result }')"
   ]
  },
  {
   "cell_type": "markdown",
   "id": "ac19afe4",
   "metadata": {},
   "source": [
    "### observation:\n",
    "> zero customers who have a data plan and have used less than 1GB of data \n",
    "\n",
    "> the average overage fee for customers whose contracts are more than 30 weeks old and have a data plan and have used less than 1GB of data is null\n",
    "\n"
   ]
  },
  {
   "cell_type": "code",
   "execution_count": null,
   "id": "7b394334",
   "metadata": {},
   "outputs": [],
   "source": []
  },
  {
   "cell_type": "code",
   "execution_count": null,
   "id": "63bef9c9",
   "metadata": {},
   "outputs": [],
   "source": []
  },
  {
   "cell_type": "markdown",
   "id": "1dd014cf",
   "metadata": {},
   "source": [
    "### 13.What is the average monthly charge for customers whose contracts are more than 50 weeks old and have a data plan and have renewed their contract?\n"
   ]
  },
  {
   "cell_type": "code",
   "execution_count": 59,
   "id": "f8636bdf",
   "metadata": {},
   "outputs": [
    {
     "name": "stdout",
     "output_type": "stream",
     "text": [
      "avg monthly charge for customers whose contracts > 50 and data_plan and renewed_contract : 62.05  \n"
     ]
    }
   ],
   "source": [
    "result=round(data[(data['Weeks'] > 50)  & (data['Data_Plan']=='Yes') & (data['Contract_Renewal'] == 1)].MonthlyCharge.mean(),2)\n",
    "print(f'avg monthly charge for customers whose contracts > 50 and data_plan and renewed_contract : {result}  ')"
   ]
  },
  {
   "cell_type": "code",
   "execution_count": null,
   "id": "84916177",
   "metadata": {},
   "outputs": [],
   "source": []
  },
  {
   "cell_type": "code",
   "execution_count": null,
   "id": "ecc5178c",
   "metadata": {},
   "outputs": [],
   "source": []
  },
  {
   "cell_type": "markdown",
   "id": "1fe89d1b",
   "metadata": {},
   "source": [
    "### 14.What is the average roam minutes for customers whose contracts are between 31-50 weeks and have a data plan and have used greater than 3GB of data?\n"
   ]
  },
  {
   "cell_type": "code",
   "execution_count": 60,
   "id": "c45a2f2d",
   "metadata": {},
   "outputs": [
    {
     "name": "stdout",
     "output_type": "stream",
     "text": [
      "avg roam minutes for customers and contracts_between 31-50 weeks and data_plan and greater than 3GB  : 9.96  \n"
     ]
    }
   ],
   "source": [
    "result=round(data[(data['Weeks'] >= 31) &(data['Weeks'] <= 50) & (data['Data_Plan']=='Yes') & (data['Data_Usage'] >3)].RoamMins.mean(),2)\n",
    "\n",
    "print(f'avg roam minutes for customers and contracts_between 31-50 weeks and data_plan and greater than 3GB  : {result}  ')"
   ]
  },
  {
   "cell_type": "code",
   "execution_count": null,
   "id": "6a9c3a3e",
   "metadata": {},
   "outputs": [],
   "source": []
  },
  {
   "cell_type": "code",
   "execution_count": null,
   "id": "b95027e7",
   "metadata": {},
   "outputs": [],
   "source": []
  },
  {
   "cell_type": "markdown",
   "id": "b71cb961",
   "metadata": {},
   "source": [
    "### 15.What is the average data usage for customers whose contracts are more than 30 weeks old and have renewed their contract?\n"
   ]
  },
  {
   "cell_type": "code",
   "execution_count": 61,
   "id": "fbeab666",
   "metadata": {
    "scrolled": true
   },
   "outputs": [
    {
     "name": "stdout",
     "output_type": "stream",
     "text": [
      "avg data usage for customers whose contracts are more than 30 weeks and renewed_contract : 2.26\n"
     ]
    }
   ],
   "source": [
    "result=round(data[(data['Weeks'] > 30)  & (data['Contract_Renewal'] == 1)].Data_Usage.mean(),2)\n",
    "print(f'avg data usage for customers whose contracts are more than 30 weeks and renewed_contract : {result}')"
   ]
  },
  {
   "cell_type": "code",
   "execution_count": null,
   "id": "c8b66bac",
   "metadata": {},
   "outputs": [],
   "source": []
  }
 ],
 "metadata": {
  "kernelspec": {
   "display_name": "Python 3 (ipykernel)",
   "language": "python",
   "name": "python3"
  },
  "language_info": {
   "codemirror_mode": {
    "name": "ipython",
    "version": 3
   },
   "file_extension": ".py",
   "mimetype": "text/x-python",
   "name": "python",
   "nbconvert_exporter": "python",
   "pygments_lexer": "ipython3",
   "version": "3.10.4"
  }
 },
 "nbformat": 4,
 "nbformat_minor": 5
}
